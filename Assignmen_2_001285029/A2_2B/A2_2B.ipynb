{
 "cells": [
  {
   "cell_type": "markdown",
   "metadata": {},
   "source": [
    "# QUESTION 2B"
   ]
  },
  {
   "cell_type": "markdown",
   "metadata": {},
   "source": [
    "## All the required imports"
   ]
  },
  {
   "cell_type": "code",
   "execution_count": 1,
   "metadata": {
    "collapsed": true
   },
   "outputs": [],
   "source": [
    "import os\n",
    "import os.path\n",
    "import glob\n",
    "import json\n",
    "import shutil\n",
    "import csv"
   ]
  },
  {
   "cell_type": "markdown",
   "metadata": {},
   "source": [
    "## Creating csv containing the START TIME and END TIME"
   ]
  },
  {
   "cell_type": "code",
   "execution_count": 2,
   "metadata": {
    "collapsed": true
   },
   "outputs": [],
   "source": [
    "d= {}\n",
    "with open('Q2B_Data1.csv', 'w') as csvfile:    # Creating a CSV file named 'Q2B_Data1' in write mode as csvfile\n",
    "    fieldnames = ['NAME OF THE RESTAURANT', 'CITY','COUNTRY CODE','DAY OF WEEK','START TIME','END TIME']  #Naming the title Row of the CSV\n",
    "    writer = csv.DictWriter(csvfile, fieldnames=fieldnames)\n",
    "    writer.writeheader()\n",
    "    for name in glob.glob(\"/Users/sonalichaudhari/Desktop/Python/DataAnalysis4Python_Spring17/Assignment 2/Data/*.json\"):\n",
    "        with open(name) as json_file:\n",
    "            d.update(json.load(json_file)) # changes done here   \n",
    "            if(d['term']==\"restaurants\"):\n",
    "                for i in d['hours'][0]['open']:  # Looping through all the days for a particular restaurant\n",
    "                    # Adding entry in the CSV\n",
    "                     writer.writerow({'NAME OF THE RESTAURANT': d['name'] ,'CITY':d['location']['city'], 'COUNTRY CODE': d['location']['country'],'DAY OF WEEK':i[\"day\"] ,'START TIME':i[\"start\"],'END TIME':i[\"end\"]}) # Adding entry in the CSV              "
   ]
  },
  {
   "cell_type": "markdown",
   "metadata": {},
   "source": [
    "## Creating csv containing the START TIME hour ,minutes and END TIME  hour ,minutes"
   ]
  },
  {
   "cell_type": "code",
   "execution_count": 3,
   "metadata": {
    "collapsed": false,
    "scrolled": true
   },
   "outputs": [],
   "source": [
    "d= {}\n",
    "with open('Q2B_Data2.csv', 'w') as csvfile:    # Creating a CSV file named 'Q2b_Data2' in write mode as csvfile\n",
    "    fieldnames = ['NAME OF THE RESTAURANT', 'CITY','COUNTRY CODE','DAY OF WEEK','START TIME HOUR','START TIME MINUTES','END TIME HOUR','END TIME MINUTES']  #Naming the title Row of the CSV\n",
    "    writer = csv.DictWriter(csvfile, fieldnames=fieldnames)\n",
    "    writer.writeheader()\n",
    "    for name in glob.glob(\"/Users/sonalichaudhari/Desktop/Python/DataAnalysis4Python_Spring17/Assignment 2/Data/*.json\"):\n",
    "        with open(name) as json_file:\n",
    "            d.update(json.load(json_file)) # changes done here          \n",
    "            if(d['term']==\"restaurants\"):\n",
    "                for i in d['hours'][0]['open']: # Looping through all the days for a particular restaurant\n",
    "                    # Adding entry in the CSV\n",
    "                     writer.writerow({'NAME OF THE RESTAURANT': d['name'] ,'CITY':d['location']['city'], 'COUNTRY CODE': d['location']['country'],'DAY OF WEEK':i[\"day\"] ,'START TIME HOUR':i[\"start\"][0:2],'START TIME MINUTES':i[\"start\"][2:],'END TIME HOUR':i[\"end\"][0:2],'END TIME MINUTES':i[\"end\"][2:]}) # Adding entry in the CSV              "
   ]
  }
 ],
 "metadata": {
  "anaconda-cloud": {},
  "kernelspec": {
   "display_name": "Python [conda root]",
   "language": "python",
   "name": "conda-root-py"
  },
  "language_info": {
   "codemirror_mode": {
    "name": "ipython",
    "version": 3
   },
   "file_extension": ".py",
   "mimetype": "text/x-python",
   "name": "python",
   "nbconvert_exporter": "python",
   "pygments_lexer": "ipython3",
   "version": "3.5.2"
  }
 },
 "nbformat": 4,
 "nbformat_minor": 1
}
