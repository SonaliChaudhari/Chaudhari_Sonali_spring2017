{
 "cells": [
  {
   "cell_type": "markdown",
   "metadata": {},
   "source": [
    "# Question 1\n",
    "-  Learn and understand Zipf’s Law.\n",
    "-  Pick any file (or files) in NLTK package.\n",
    "- Prove if Zipf’s Law works in Natural Language or not.\n",
    "- REQUIREMNTS: (Must Do)\n",
    "- Use ’glob’ to open and read file. If read multiple files use LOOP to achieve.\n",
    "- Create at least one function and one lambda function.\n",
    "- Save your data as an CSV file contains (Word, Rank, Frequency) with TITLE and Sort it by RANK.\n",
    "- Open your CSV file, generate a log-log figure according to the data you saved.\n",
    "- Write a conclusion at the end of your code base on your figure."
   ]
  },
  {
   "cell_type": "code",
   "execution_count": 26,
   "metadata": {
    "collapsed": false
   },
   "outputs": [
    {
     "ename": "SyntaxError",
     "evalue": "unexpected EOF while parsing (<ipython-input-26-4fa5f2856f70>, line 5)",
     "output_type": "error",
     "traceback": [
      "\u001b[0;36m  File \u001b[0;32m\"<ipython-input-26-4fa5f2856f70>\"\u001b[0;36m, line \u001b[0;32m5\u001b[0m\n\u001b[0;31m    #print ('\\t', name)\u001b[0m\n\u001b[0m                       ^\u001b[0m\n\u001b[0;31mSyntaxError\u001b[0m\u001b[0;31m:\u001b[0m unexpected EOF while parsing\n"
     ]
    }
   ],
   "source": [
    "import glob\n",
    "\n",
    "print ('Named explicitly:')\n",
    "for name in glob.glob('/Users/sonalichaudhari/nltk_data/corpora/gutenberg/*'):\n",
    "   #print ('\\t', name)"
   ]
  },
  {
   "cell_type": "code",
   "execution_count": 27,
   "metadata": {
    "collapsed": false
   },
   "outputs": [
    {
     "name": "stdout",
     "output_type": "stream",
     "text": [
      "Named explicitly:\n",
      "['/Users/sonalichaudhari/Desktop/ABC/Readme']\n"
     ]
    }
   ],
   "source": [
    "import glob\n",
    "all_files =[]\n",
    "print ('Named explicitly:')\n",
    "for name in glob.glob('/Users/sonalichaudhari/Desktop/ABC/Readme'):\n",
    "    f = open(name, 'r')\n",
    "    all_files.append(name)\n",
    "    content = f.read()\n",
    "  #  print ('\\t', name, len(content))\n",
    "    #print ('\\t', name)\n",
    "    \n",
    "print(all_files)"
   ]
  },
  {
   "cell_type": "code",
   "execution_count": null,
   "metadata": {
    "collapsed": true
   },
   "outputs": [],
   "source": []
  },
  {
   "cell_type": "code",
   "execution_count": 32,
   "metadata": {
    "collapsed": false
   },
   "outputs": [
    {
     "name": "stdout",
     "output_type": "stream",
     "text": [
      "Project Gutenberg Selectionshttp://gutenberg.net/This corpus contains etexts from from Project Gutenberg,by the following authors:* Jane Austen (3)* William Blake (2)* Thornton W. Burgess* Sarah Cone Bryant* Lewis Carroll* G. K. Chesterton (3)* Maria Edgeworth* King James Bible* Herman Melville* John Milton* William Shakespeare (3)* Walt WhitmanThe beginning of the body of each book could not be identified automatically,so the semi-generic header of each file has been removed, and included below.Some source files ended with a line \"End of The Project Gutenberg Etext...\",and this has been deleted.Information about Project Gutenberg (one page)We produce about two million dollars for each hour we work.  Thefifty hours is one conservative estimate for how long it we taketo get any etext selected, entered, proofread, edited, copyrightsearched and analyzed, the copyright letters written, etc.  Thisprojected audience is one hundred million readers.  If our valueper text is nominally estimated at one dollar, then we produce 2million dollars per hour this year we, will have to do four textfiles per month:  thus upping our productivity from one million.The Goal of Project Gutenberg is to Give Away One Trillion EtextFiles by the December 31, 2001.  [10,000 x 100,000,000=Trillion]This is ten thousand titles each to one hundred million readers,which is 10% of the expected number of computer users by the endof the year 2001.We need your donations more than ever!All donations should be made to \"Project Gutenberg/IBC\", and aretax deductible to the extent allowable by law (\"IBC\" is IllinoisBenedictine College).  (Subscriptions to our paper newsletter goto IBC, too)For these and other matters, please mail to:Project GutenbergP. O. Box  2782Champaign, IL 61825When all other email fails try our Michael S. Hart, ExecutiveDirector:hart@vmd.cso.uiuc.edu (internet)   hart@uiucvmd   (bitnet)We would prefer to send you this information by email(Internet, Bitnet, Compuserve, ATTMAIL or MCImail).******If you have an FTP program (or emulator), pleaseFTP directly to the Project Gutenberg archives:[Mac users, do NOT point and click. . .type]ftp mrcnext.cso.uiuc.edulogin:  anonymouspassword:  your@logincd etext/etext91or cd etext92or cd etext93 [for new books]  [now also in cd etext/etext93]or cd etext/articles [get suggest gut for more information]dir [to see files]get or mget [to get files. . .set bin for zip files]get INDEX100.GUTget INDEX200.GUTfor a list of booksandget NEW.GUT for general informationandmget GUT* for newsletters.**Information prepared by the Project Gutenberg legal advisor**(Three Pages)***START**THE SMALL PRINT!**FOR PUBLIC DOMAIN ETEXTS**START***Why is this \"Small Print!\" statement here?  You know: lawyers.They tell us you might sue us if there is something wrong withyour copy of this etext, even if you got it for free fromsomeone other than us, and even if what's wrong is not ourfault.  So, among other things, this \"Small Print!\" statementdisclaims most of our liability to you.  It also tells you howyou can distribute copies of this etext if you want to.*BEFORE!* YOU USE OR READ THIS ETEXTBy using or reading any part of this PROJECT GUTENBERG-tmetext, you indicate that you understand, agree to and acceptthis \"Small Print!\" statement.  If you do not, you can receivea refund of the money (if any) you paid for this etext bysending a request within 30 days of receiving it to the personyou got it from.  If you received this etext on a physicalmedium (such as a disk), you must return it with your request.ABOUT PROJECT GUTENBERG-TM ETEXTSThis PROJECT GUTENBERG-tm etext, like most PROJECT GUTENBERG-tm etexts, is a \"public domain\" work distributed by ProfessorMichael S. Hart through the Project Gutenberg Association atIllinois Benedictine College (the \"Project\").  Among otherthings, this means that no one owns a United States copyrighton or for this work, so the Project (and you!) can copy anddistribute it in the United States without permission andwithout paying copyright royalties.  Special rules, set forthbelow, apply if you wish to copy and distribute this etextunder the Project's \"PROJECT GUTENBERG\" trademark.To create these etexts, the Project expends considerableefforts to identify, transcribe and proofread public domainworks.  Despite these efforts, the Project's etexts and anymedium they may be on may contain \"Defects\".  Among otherthings, Defects may take the form of incomplete, inaccurate orcorrupt data, transcription errors, a copyright or otherintellectual property infringement, a defective or damageddisk or other etext medium, a computer virus, or computercodes that damage or cannot be read by your equipment.LIMITED WARRANTY; DISCLAIMER OF DAMAGESBut for the \"Right of Replacement or Refund\" described below,[1] the Project (and any other party you may receive thisetext from as a PROJECT GUTENBERG-tm etext) disclaims allliability to you for damages, costs and expenses, includinglegal fees, and [2] YOU HAVE NO REMEDIES FOR NEGLIGENCE ORUNDER STRICT LIABILITY, OR FOR BREACH OF WARRANTY OR CONTRACT,INCLUDING BUT NOT LIMITED TO INDIRECT, CONSEQUENTIAL, PUNITIVEOR INCIDENTAL DAMAGES, EVEN IF YOU GIVE NOTICE OF THEPOSSIBILITY OF SUCH DAMAGES.If you discover a Defect in this etext within 90 days ofreceiving it, you can receive a refund of the money (if any)you paid for it by sending an explanatory note within thattime to the person you received it from.  If you received iton a physical medium, you must return it with your note, andsuch person may choose to alternatively give you a replacementcopy.  If you received it electronically, such person maychoose to alternatively give you a second opportunity toreceive it electronically.THIS ETEXT IS OTHERWISE PROVIDED TO YOU \"AS-IS\".  NO OTHERWARRANTIES OF ANY KIND, EXPRESS OR IMPLIED, ARE MADE TO YOU ASTO THE ETEXT OR ANY MEDIUM IT MAY BE ON, INCLUDING BUT NOTLIMITED TO WARRANTIES OF MERCHANTABILITY OR FITNESS FOR APARTICULAR PURPOSE.Some states do not allow disclaimers of implied warranties orthe exclusion or limitation of consequential damages, so theabove disclaimers and exclusions may not apply to you, and youmay have other legal rights.INDEMNITYYou will indemnify and hold the Project, its directors,officers, members and agents harmless from all liability, costand expense, including legal fees, that arise directly orindirectly from any of the following that you do or cause:[1] distribution of this etext, [2] alteration, modification,or addition to the etext, or [3] any Defect.DISTRIBUTION UNDER \"PROJECT GUTENBERG-tm\"You may distribute copies of this etext electronically, or bydisk, book or any other medium if you either delete this\"Small Print!\" and all other references to Project Gutenberg,or:[1]  Only give exact copies of it.  Among other things, this     requires that you do not remove, alter or modify the     etext or this \"small print!\" statement.  You may however,     if you wish, distribute this etext in machine readable     binary, compressed, mark-up, or proprietary form,     including any form resulting from conversion by word pro-     cessing or hypertext software, but only so long as     *EITHER*:     [*]  The etext, when displayed, is clearly readable, and          does *not* contain characters other than those          intended by the author of the work, although tilde          (~), asterisk (*) and underline (_) characters may          be used to convey punctuation intended by the          author, and additional characters may be used to          indicate hypertext links; OR     [*]  The etext may be readily converted by the reader at          no expense into plain ASCII, EBCDIC or equivalent          form by the program that displays the etext (as is          the case, for instance, with most word processors);          OR     [*]  You provide, or agree to also provide on request at          no additional cost, fee or expense, a copy of the          etext in its original plain ASCII form (or in EBCDIC          or other equivalent proprietary form).[2]  Honor the etext refund and replacement provisions of this     \"Small Print!\" statement.[3]  Pay a trademark license fee to the Project of 20% of the     net profits you derive calculated using the method you     already use to calculate your applicable taxes.  If you     don't derive profits, no royalty is due.  Royalties are     payable to \"Project Gutenberg Association / Illinois     Benedictine College\" within the 60 days following each     date you prepare (or were legally required to prepare)     your annual (or equivalent periodic) tax return.WHAT IF YOU *WANT* TO SEND MONEY EVEN IF YOU DON'T HAVE TO?The Project gratefully accepts contributions in money, time,scanning machines, OCR software, public domain etexts, royaltyfree copyright licenses, and every other sort of contributionyou can think of.  Money should be paid to \"Project GutenbergAssociation / Illinois Benedictine College\".This \"Small Print!\" by Charles B. Kramer, AttorneyInternet (72600.2026@compuserve.com); TEL: (212-254-5093)*END*THE SMALL PRINT! FOR PUBLIC DOMAIN ETEXTS*Ver.04.29.93*END*\n"
     ]
    }
   ],
   "source": [
    "with open('result.txt', 'w') as outfile:\n",
    "    for fname in all_files:\n",
    "        with open(fname) as infile:\n",
    "            content = infile.read().replace('\\n', '')\n",
    "            outfile.write(content)\n",
    "file = open('result.txt','r')\n",
    "print(file.read())"
   ]
  },
  {
   "cell_type": "code",
   "execution_count": null,
   "metadata": {
    "collapsed": true
   },
   "outputs": [],
   "source": [
    "import string\n",
    ">>> for c in string.punctuation:\n",
    "...     s= s.replace(c,\"\")\n"
   ]
  },
  {
   "cell_type": "code",
   "execution_count": null,
   "metadata": {
    "collapsed": true
   },
   "outputs": [],
   "source": [
    "import string\n",
    "\n",
    "O=[''.join(c for c in s if c not in string.punctuation) for s in O]\n",
    "O = [s for s in O if s]\n",
    "\n"
   ]
  },
  {
   "cell_type": "code",
   "execution_count": 30,
   "metadata": {
    "collapsed": false
   },
   "outputs": [],
   "source": [
    "file = open('result.txt','r')\n",
    "data =file.readlines()\n",
    "for line in data:\n",
    "    words = line.split()\n",
    "      print (words)\n"
   ]
  },
  {
   "cell_type": "code",
   "execution_count": 40,
   "metadata": {
    "collapsed": false
   },
   "outputs": [
    {
     "name": "stdout",
     "output_type": "stream",
     "text": [
      "ProjectGutenbergSelectionshttp://gutenberg.net/ThiscorpuscontainsetextsfromfromProjectGutenberg,bythefollowingauthors:*JaneAusten()*WilliamBlake()*ThorntonW.Burgess*SarahConeBryant*LewisCarroll*G.K.Chesterton()*MariaEdgeworth*KingJamesBible*HermanMelville*JohnMilton*WilliamShakespeare()*WaltWhitmanThebeginningofthebodyofeachbookcouldnotbeidentifiedautomatically,sothesemi-genericheaderofeachfilehasbeenremoved,andincludedbelow.Somesourcefilesendedwithaline``EndofTheProjectGutenbergEtext...'',andthishasbeendeleted.InformationaboutProjectGutenberg(onepage)Weproduceabouttwomilliondollarsforeachhourwework.Thefiftyhoursisoneconservativeestimateforhowlongitwetaketogetanyetextselected,entered,proofread,edited,copyrightsearchedandanalyzed,thecopyrightletterswritten,etc.Thisprojectedaudienceisonehundredmillionreaders.Ifourvaluepertextisnominallyestimatedatonedollar,thenweproduce2milliondollarsperhourthisyearwe,willhavetodofourtextfilespermonth:thusuppingourproductivityfromonemillion.TheGoalofProjectGutenbergistoGiveAwayOneTrillionEtextFilesbytheDecember,.[10,000x100,000,000=Trillion]Thisistenthousandtitleseachtoonehundredmillionreaders,whichis%oftheexpectednumberofcomputerusersbytheendoftheyear2001.Weneedyourdonationsmorethanever!Alldonationsshouldbemadeto``ProjectGutenberg/IBC'',andaretaxdeductibletotheextentallowablebylaw(``IBC''isIllinoisBenedictineCollege).(SubscriptionstoourpapernewslettergotoIBC,too)Fortheseandothermatters,pleasemailto:ProjectGutenbergP.O.Box2782Champaign,IL61825WhenallotheremailfailstryourMichaelS.Hart,ExecutiveDirector:hart@vmd.cso.uiuc.edu(internet)hart@uiucvmd(bitnet)Wewouldprefertosendyouthisinformationbyemail(Internet,Bitnet,Compuserve,ATTMAILorMCImail).******IfyouhaveanFTPprogram(oremulator),pleaseFTPdirectlytotheProjectGutenbergarchives:[Macusers,doNOTpointandclick...type]ftpmrcnext.cso.uiuc.edulogin:anonymouspassword:your@logincdetext/etext91orcdetext92orcdetext93[fornewbooks][nowalsoincdetext/etext93]orcdetext/articles[getsuggestgutformoreinformation]dir[toseefiles]getormget[togetfiles...setbinforzipfiles]getINDEX100.GUTgetINDEX200.GUTforalistofbooksandgetNEW.GUTforgeneralinformationandmgetGUT*fornewsletters.**InformationpreparedbytheProjectGutenberglegaladvisor**(ThreePages)***START**THESMALLPRINT!**FORPUBLICDOMAINETEXTS**START***Whyisthis``SmallPrint!''statementhere?Youknow:lawyers.Theytellusyoumightsueusifthereissomethingwrongwithyourcopyofthisetext,evenifyougotitforfreefromsomeoneotherthanus,andevenifwhat'swrongisnotourfault.So,amongotherthings,this``SmallPrint!''statementdisclaimsmostofourliabilitytoyou.Italsotellsyouhowyoucandistributecopiesofthisetextifyouwantto.*BEFORE!*YOUUSEORREADTHISETEXTByusingorreadinganypartofthisPROJECTGUTENBERG-tmetext,youindicatethatyouunderstand,agreetoandacceptthis``SmallPrint!''statement.Ifyoudonot,youcanreceivearefundofthemoney(ifany)youpaidforthisetextbysendingarequestwithindaysofreceivingittothepersonyougotitfrom.Ifyoureceivedthisetextonaphysicalmedium(suchasadisk),youmustreturnitwithyourrequest.ABOUTPROJECTGUTENBERG-TMETEXTSThisPROJECTGUTENBERG-tmetext,likemostPROJECTGUTENBERG-tmetexts,isa``publicdomain''workdistributedbyProfessorMichaelS.HartthroughtheProjectGutenbergAssociationatIllinoisBenedictineCollege(the``Project'').Amongotherthings,thismeansthatnooneownsaUnitedStatescopyrightonorforthiswork,sotheProject(andyou!)cancopyanddistributeitintheUnitedStateswithoutpermissionandwithoutpayingcopyrightroyalties.Specialrules,setforthbelow,applyifyouwishtocopyanddistributethisetextundertheProject's``PROJECTGUTENBERG''trademark.Tocreatetheseetexts,theProjectexpendsconsiderableeffortstoidentify,transcribeandproofreadpublicdomainworks.Despitetheseefforts,theProject'setextsandanymediumtheymaybeonmaycontain``Defects''.Amongotherthings,Defectsmaytaketheformofincomplete,inaccurateorcorruptdata,transcriptionerrors,acopyrightorotherintellectualpropertyinfringement,adefectiveordamageddiskorotheretextmedium,acomputervirus,orcomputercodesthatdamageorcannotbereadbyyourequipment.LIMITEDWARRANTY;DISCLAIMEROFDAMAGESButforthe``RightofReplacementorRefund''describedbelow,[]theProject(andanyotherpartyyoumayreceivethisetextfromasaPROJECTGUTENBERG-tmetext)disclaimsallliabilitytoyoufordamages,costsandexpenses,includinglegalfees,and[]YOUHAVENOREMEDIESFORNEGLIGENCEORUNDERSTRICTLIABILITY,ORFORBREACHOFWARRANTYORCONTRACT,INCLUDINGBUTNOTLIMITEDTOINDIRECT,CONSEQUENTIAL,PUNITIVEORINCIDENTALDAMAGES,EVENIFYOUGIVENOTICEOFTHEPOSSIBILITYOFSUCHDAMAGES.IfyoudiscoveraDefectinthisetextwithindaysofreceivingit,youcanreceivearefundofthemoney(ifany)youpaidforitbysendinganexplanatorynotewithinthattimetothepersonyoureceiveditfrom.Ifyoureceiveditonaphysicalmedium,youmustreturnitwithyournote,andsuchpersonmaychoosetoalternativelygiveyouareplacementcopy.Ifyoureceiveditelectronically,suchpersonmaychoosetoalternativelygiveyouasecondopportunitytoreceiveitelectronically.THISETEXTISOTHERWISEPROVIDEDTOYOU``AS-IS''.NOOTHERWARRANTIESOFANYKIND,EXPRESSORIMPLIED,AREMADETOYOUASTOTHEETEXTORANYMEDIUMITMAYBEON,INCLUDINGBUTNOTLIMITEDTOWARRANTIESOFMERCHANTABILITYORFITNESSFORAPARTICULARPURPOSE.Somestatesdonotallowdisclaimersofimpliedwarrantiesortheexclusionorlimitationofconsequentialdamages,sotheabovedisclaimersandexclusionsmaynotapplytoyou,andyoumayhaveotherlegalrights.INDEMNITYYouwillindemnifyandholdtheProject,itsdirectors,officers,membersandagentsharmlessfromallliability,costandexpense,includinglegalfees,thatarisedirectlyorindirectlyfromanyofthefollowingthatyoudoorcause:[]distributionofthisetext,[]alteration,modification,oradditiontotheetext,or[]anyDefect.DISTRIBUTIONUNDER``PROJECTGUTENBERG-tm''Youmaydistributecopiesofthisetextelectronically,orbydisk,bookoranyothermediumifyoueitherdeletethis''SmallPrint!''andallotherreferencestoProjectGutenberg,or:[]Onlygiveexactcopiesofit.Amongotherthings,thisrequiresthatyoudonotremove,alterormodifytheetextorthis``smallprint!''statement.Youmayhowever,ifyouwish,distributethisetextinmachinereadablebinary,compressed,mark-up,orproprietaryform,includinganyformresultingfromconversionbywordpro-cessingorhypertextsoftware,butonlysolongas*EITHER*:[*]Theetext,whendisplayed,isclearlyreadable,anddoes*not*containcharactersotherthanthoseintendedbytheauthorofthework,althoughtilde(~),asterisk(*)andunderline(_)charactersmaybeusedtoconveypunctuationintendedbytheauthor,andadditionalcharactersmaybeusedtoindicatehypertextlinks;OR[*]TheetextmaybereadilyconvertedbythereaderatnoexpenseintoplainASCII,EBCDICorequivalentformbytheprogramthatdisplaystheetext(asisthecase,forinstance,withmostwordprocessors);OR[*]Youprovide,oragreetoalsoprovideonrequestatnoadditionalcost,feeorexpense,acopyoftheetextinitsoriginalplainASCIIform(orinEBCDICorotherequivalentproprietaryform).[]Honortheetextrefundandreplacementprovisionsofthis``SmallPrint!''statement.[]PayatrademarklicensefeetotheProjectof%ofthenetprofitsyouderivecalculatedusingthemethodyoualreadyusetocalculateyourapplicabletaxes.Ifyoudon'tderiveprofits,noroyaltyisdue.Royaltiesarepayableto``ProjectGutenbergAssociation/IllinoisBenedictineCollege''withinthedaysfollowingeachdateyouprepare(orwerelegallyrequiredtoprepare)yourannual(orequivalentperiodic)taxreturn.WHATIFYOU*WANT*TOSENDMONEYEVENIFYOUDON'THAVETO?TheProjectgratefullyacceptscontributionsinmoney,time,scanningmachines,OCRsoftware,publicdomainetexts,royaltyfreecopyrightlicenses,andeveryothersortofcontributionyoucanthinkof.Moneyshouldbepaidto``ProjectGutenbergAssociation/IllinoisBenedictineCollege''.This``SmallPrint!''byCharlesB.Kramer,AttorneyInternet(72600.2026@compuserve.com);TEL:(212-254-5093)*END*THESMALLPRINT!FORPUBLICDOMAINETEXTS*Ver.04.29.93*END*\n"
     ]
    }
   ],
   "source": [
    "import nltk\n",
    "import string\n",
    "file = open('result.txt','r')\n",
    "for line in file:\n",
    "    word = nltk.word_tokenize(line)\n",
    "    word = ''.join(i for i in word if not i.isdigit())\n",
    "    for single in word:\n",
    "        for c in string.punctuation:\n",
    "            single =single.replace(c,\"\")\n",
    "            \n",
    "    print(word)"
   ]
  },
  {
   "cell_type": "code",
   "execution_count": null,
   "metadata": {
    "collapsed": true
   },
   "outputs": [],
   "source": []
  },
  {
   "cell_type": "code",
   "execution_count": null,
   "metadata": {
    "collapsed": true
   },
   "outputs": [],
   "source": []
  },
  {
   "cell_type": "code",
   "execution_count": null,
   "metadata": {
    "collapsed": true
   },
   "outputs": [],
   "source": []
  },
  {
   "cell_type": "code",
   "execution_count": null,
   "metadata": {
    "collapsed": true
   },
   "outputs": [],
   "source": [
    " result = ''.join(i for i in s if not i.isdigit())\n",
    ">>> result"
   ]
  },
  {
   "cell_type": "code",
   "execution_count": null,
   "metadata": {
    "collapsed": true
   },
   "outputs": [],
   "source": []
  },
  {
   "cell_type": "code",
   "execution_count": null,
   "metadata": {
    "collapsed": true
   },
   "outputs": [],
   "source": []
  }
 ],
 "metadata": {
  "anaconda-cloud": {},
  "kernelspec": {
   "display_name": "Python [conda root]",
   "language": "python",
   "name": "conda-root-py"
  },
  "language_info": {
   "codemirror_mode": {
    "name": "ipython",
    "version": 3
   },
   "file_extension": ".py",
   "mimetype": "text/x-python",
   "name": "python",
   "nbconvert_exporter": "python",
   "pygments_lexer": "ipython3",
   "version": "3.5.2"
  }
 },
 "nbformat": 4,
 "nbformat_minor": 1
}
