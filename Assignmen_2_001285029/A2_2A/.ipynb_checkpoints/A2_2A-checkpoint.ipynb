{
 "cells": [
  {
   "cell_type": "markdown",
   "metadata": {},
   "source": [
    "# QUESTION 2"
   ]
  },
  {
   "cell_type": "code",
   "execution_count": 1,
   "metadata": {
    "collapsed": true
   },
   "outputs": [],
   "source": [
    "import json\n",
    "import glob\n",
    "import nltk\n",
    "import string\n",
    "import csv\n",
    "from nltk.corpus import stopwords\n",
    "from pprint import pprint"
   ]
  },
  {
   "cell_type": "markdown",
   "metadata": {},
   "source": [
    "## Reading JSON files"
   ]
  },
  {
   "cell_type": "code",
   "execution_count": 2,
   "metadata": {
    "collapsed": true
   },
   "outputs": [],
   "source": [
    "All_Jfiles =[]   \n",
    "\n",
    "for name in glob.glob('/Users/sonalichaudhari/Desktop/Python/DataAnalysis4Python_Spring17/Assignment 2/Data/*.json'):  #Retrieving all the files with .txt extension from the given path\n",
    "    All_Jfiles.append(name)\n",
    "    with open(name) as json_file:\n",
    "        d = json.load(json_file)\n",
    "        #print(d,'\\n\\n')          #Printing each file read"
   ]
  },
  {
   "cell_type": "code",
   "execution_count": null,
   "metadata": {
    "collapsed": false
   },
   "outputs": [],
   "source": [
    "result = []\n",
    "for f in glob.glob(\"/Users/sonalichaudhari/Desktop/Python/DataAnalysis4Python_Spring17/Assignment 2/Data/*.json\"):\n",
    "    with open(f, \"r\") as infile:\n",
    "        result.append(json.load(infile))\n",
    "result\n",
    "\n",
    "with open(\"data.json\",\"w\") as outfile:\n",
    "     json.dump(result, outfile)\n",
    "     a=json.load(outfile)\n",
    "a\n",
    "\n",
    "result = []\n",
    "with open('data.json', 'w') as json_data:   #Create a new file common 'output.txt' with write mode to combine all the files.\n",
    "    for jfname in All_Jfiles:                #Looping through all the files in list all_files.\n",
    "        with open(jfname) as infile:\n",
    "            result.append(json.load(infile))\n",
    "            print(jfname)\n",
    "            d=json.load(json_data)\n",
    "            d={}\n",
    "\n",
    "            \n",
    " result = []\n",
    "with open('data.json', 'w') as json_data:   #Create a new file common 'output.txt' with write mode to combine all the files.\n",
    "    for jfname in All_Jfiles:                #Looping through all the files in list all_files.\n",
    "        with open(jfname) as infile:\n",
    "            result.append(json.load(infile))\n",
    "            print(jfname)\n",
    "            \n",
    "    json.dump(result, json_data)\n",
    "\n",
    "pprint(json_data)\n"
   ]
  },
  {
   "cell_type": "code",
   "execution_count": 15,
   "metadata": {
    "collapsed": false
   },
   "outputs": [
    {
     "ename": "ImportError",
     "evalue": "cannot import name 'izip'",
     "output_type": "error",
     "traceback": [
      "\u001b[0;31m---------------------------------------------------------------------------\u001b[0m",
      "\u001b[0;31mImportError\u001b[0m                               Traceback (most recent call last)",
      "\u001b[0;32m<ipython-input-15-118ac67969e6>\u001b[0m in \u001b[0;36m<module>\u001b[0;34m()\u001b[0m\n\u001b[1;32m      1\u001b[0m \u001b[0;32mfrom\u001b[0m \u001b[0mre\u001b[0m \u001b[0;32mimport\u001b[0m \u001b[0msplit\u001b[0m\u001b[0;34m\u001b[0m\u001b[0m\n\u001b[0;32m----> 2\u001b[0;31m \u001b[0;32mfrom\u001b[0m \u001b[0mitertools\u001b[0m \u001b[0;32mimport\u001b[0m \u001b[0mgroupby\u001b[0m\u001b[0;34m,\u001b[0m \u001b[0mizip\u001b[0m\u001b[0;34m\u001b[0m\u001b[0m\n\u001b[0m\u001b[1;32m      3\u001b[0m \u001b[0;34m\u001b[0m\u001b[0m\n\u001b[1;32m      4\u001b[0m \u001b[0;32mimport\u001b[0m \u001b[0mnumpy\u001b[0m \u001b[0;32mas\u001b[0m \u001b[0mnp\u001b[0m\u001b[0;34m\u001b[0m\u001b[0m\n\u001b[1;32m      5\u001b[0m \u001b[0;32mimport\u001b[0m \u001b[0mtypes\u001b[0m\u001b[0;34m\u001b[0m\u001b[0m\n",
      "\u001b[0;31mImportError\u001b[0m: cannot import name 'izip'"
     ]
    }
   ],
   "source": [
    "from re import split\n",
    "from itertools import groupby, izip\n",
    "\n",
    "import numpy as np\n",
    "import types\n",
    "import os\n",
    "from itertools import izip\n",
    "try:\n",
    "    # Python 2\n",
    "     from itertools import izip\n",
    "except ImportError:\n",
    "    # Python 3\n",
    "    izip = zip\n",
    "fruits = set([\"apple\", \"pear\"])\n",
    "animals = set([\"bear\", \"cat\"])\n",
    "\n",
    "json_structure = {}\n",
    "\n",
    "text_input = [\"apple001.png\", \"apple002.jpg\", \"bear001.png\", \"pear001.png\", \"cat001.png\"]\n",
    "\n",
    "def check(filename):\n",
    "    \"\"\"Checks which group a filename is in and returns an integer for ordering\"\"\"\n",
    "    n = split(r'[0-9]', filename)[0]\n",
    "    if n in fruits:\n",
    "        return 0\n",
    "    else:\n",
    "        return 1\n",
    "\n",
    "\n",
    "grouped = groupby(sorted(text_input, key=check), key=check)\n",
    "\n",
    "for objects, object_type in izip(grouped, [\"fruits\", \"animals\"]):\n",
    "    items = objects[1]\n",
    "    json_structure[object_type] = list(items)\n",
    "\n",
    "print (json_structure)"
   ]
  },
  {
   "cell_type": "code",
   "execution_count": null,
   "metadata": {
    "collapsed": true
   },
   "outputs": [],
   "source": []
  },
  {
   "cell_type": "code",
   "execution_count": null,
   "metadata": {
    "collapsed": true
   },
   "outputs": [],
   "source": []
  },
  {
   "cell_type": "code",
   "execution_count": null,
   "metadata": {
    "collapsed": true
   },
   "outputs": [],
   "source": []
  },
  {
   "cell_type": "code",
   "execution_count": null,
   "metadata": {
    "collapsed": true
   },
   "outputs": [],
   "source": []
  },
  {
   "cell_type": "code",
   "execution_count": null,
   "metadata": {
    "collapsed": true
   },
   "outputs": [],
   "source": []
  },
  {
   "cell_type": "code",
   "execution_count": null,
   "metadata": {
    "collapsed": true
   },
   "outputs": [],
   "source": []
  },
  {
   "cell_type": "code",
   "execution_count": null,
   "metadata": {
    "collapsed": true
   },
   "outputs": [],
   "source": []
  },
  {
   "cell_type": "code",
   "execution_count": null,
   "metadata": {
    "collapsed": true
   },
   "outputs": [],
   "source": []
  },
  {
   "cell_type": "code",
   "execution_count": null,
   "metadata": {
    "collapsed": true
   },
   "outputs": [],
   "source": []
  },
  {
   "cell_type": "code",
   "execution_count": null,
   "metadata": {
    "collapsed": true
   },
   "outputs": [],
   "source": []
  },
  {
   "cell_type": "code",
   "execution_count": null,
   "metadata": {
    "collapsed": true
   },
   "outputs": [],
   "source": []
  },
  {
   "cell_type": "code",
   "execution_count": null,
   "metadata": {
    "collapsed": true
   },
   "outputs": [],
   "source": []
  },
  {
   "cell_type": "code",
   "execution_count": null,
   "metadata": {
    "collapsed": true
   },
   "outputs": [],
   "source": []
  }
 ],
 "metadata": {
  "anaconda-cloud": {},
  "kernelspec": {
   "display_name": "Python [conda root]",
   "language": "python",
   "name": "conda-root-py"
  },
  "language_info": {
   "codemirror_mode": {
    "name": "ipython",
    "version": 3
   },
   "file_extension": ".py",
   "mimetype": "text/x-python",
   "name": "python",
   "nbconvert_exporter": "python",
   "pygments_lexer": "ipython3",
   "version": "3.5.2"
  }
 },
 "nbformat": 4,
 "nbformat_minor": 1
}
