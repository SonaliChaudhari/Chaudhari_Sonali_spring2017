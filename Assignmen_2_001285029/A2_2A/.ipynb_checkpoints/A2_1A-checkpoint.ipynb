{
 "cells": [
  {
   "cell_type": "markdown",
   "metadata": {
    "collapsed": false
   },
   "source": [
    "# QUESTION 2A"
   ]
  },
  {
   "cell_type": "markdown",
   "metadata": {},
   "source": [
    "## All the required imports"
   ]
  },
  {
   "cell_type": "code",
   "execution_count": 1,
   "metadata": {
    "collapsed": true
   },
   "outputs": [],
   "source": [
    "import os\n",
    "import os.path\n",
    "import glob\n",
    "import json\n",
    "import shutil"
   ]
  },
  {
   "cell_type": "code",
   "execution_count": 2,
   "metadata": {
    "collapsed": false
   },
   "outputs": [],
   "source": [
    "#Storing the path which will be required multiple times in one string\n",
    "\n",
    "basic_path = '/Users/sonalichaudhari/Desktop/Assignmen_2_001285029/A2_2A/DATA PROCESSED'\n",
    "\n",
    "cwd = os.getcwd()\n",
    "dir_path = cwd + \"/Data/*.json\"\n",
    "#Retrieving all the files with .json extension from the given path\n",
    "for name in glob.glob(dir_path):\n",
    "    with open(name) as json_file:\n",
    "        d = json.load(json_file)\n",
    "        if(d.get(\"term\")=='restaurants'): # Checking if the value of key \"term\" is \"restaurants\" to retrieve only specific files\n",
    "            foldername1 = d.get(\"location\",{}).get(\"country\")\n",
    "            path1 = os.path.join(basic_path,foldername1)\n",
    "            if not os.path.exists(path1): # Check if whether the path exist \n",
    "                os.makedirs(path1)        # Creating new new directory and folder for country\n",
    "                foldername2 =  d.get(\"location\",{}).get(\"city\")\n",
    "                path2 = os.path.join(path1,foldername2)\n",
    "                if not os.path.exists(path2):\n",
    "                    os.makedirs(path2)    # Check if whether the path exist \n",
    "                    shutil.copy2(name,path2) # Creating new new directory and folder for city\n",
    "                else:\n",
    "                    shutil.copy2(name,path2) # Copying the source file data to destination file\n",
    "            else:\n",
    "                foldername2 =  d.get(\"location\",{}).get(\"city\")\n",
    "                path2 = os.path.join(path1,foldername2)\n",
    "                if not os.path.exists(path2):\n",
    "                    os.makedirs(path2)\n",
    "                    shutil.copy2(name,path2)\n",
    "                else:\n",
    "                    shutil.copy2(name,path2)\n",
    "         "
   ]
  }
 ],
 "metadata": {
  "anaconda-cloud": {},
  "kernelspec": {
   "display_name": "Python [conda root]",
   "language": "python",
   "name": "conda-root-py"
  },
  "language_info": {
   "codemirror_mode": {
    "name": "ipython",
    "version": 3
   },
   "file_extension": ".py",
   "mimetype": "text/x-python",
   "name": "python",
   "nbconvert_exporter": "python",
   "pygments_lexer": "ipython3",
   "version": "3.5.2"
  }
 },
 "nbformat": 4,
 "nbformat_minor": 1
}
