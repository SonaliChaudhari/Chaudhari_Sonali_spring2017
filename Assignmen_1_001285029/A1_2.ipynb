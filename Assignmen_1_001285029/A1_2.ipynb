{
 "cells": [
  {
   "cell_type": "markdown",
   "metadata": {},
   "source": [
    "# Q2. Under package Gutenberg get content from file 'melville-moby_dick.txt.' (HINT: Words? Raw?)\n",
    "\n",
    "- Find out frequency of 26 characters. (Turn uppercase into lowercase and count as one character)\n",
    "- List all 26 characters in order base on their frequency. (From most frequent to least frequent)"
   ]
  },
  {
   "cell_type": "code",
   "execution_count": 2,
   "metadata": {
    "collapsed": true
   },
   "outputs": [],
   "source": [
    "import nltk"
   ]
  },
  {
   "cell_type": "code",
   "execution_count": 3,
   "metadata": {
    "collapsed": false
   },
   "outputs": [],
   "source": [
    "nltk.corpus.gutenberg.fileids()\n",
    "\n",
    "from nltk.corpus import gutenberg\n",
    "\n",
    "S = nltk.corpus.gutenberg.words('austen-persuasion.txt')"
   ]
  },
  {
   "cell_type": "code",
   "execution_count": 4,
   "metadata": {
    "collapsed": true
   },
   "outputs": [],
   "source": [
    "P = set(word.lower() for word in S)"
   ]
  },
  {
   "cell_type": "code",
   "execution_count": 7,
   "metadata": {
    "collapsed": false
   },
   "outputs": [
    {
     "name": "stdout",
     "output_type": "stream",
     "text": [
      "----Frequency of 26 characters----\n",
      "a --- 2883\n",
      "b --- 626\n",
      "c --- 1684\n",
      "d --- 2021\n",
      "e --- 5643\n",
      "f --- 701\n",
      "g --- 1251\n",
      "h --- 919\n",
      "i --- 3472\n",
      "j --- 76\n",
      "k --- 255\n",
      "l --- 2002\n",
      "m --- 1020\n",
      "n --- 3377\n",
      "o --- 2439\n",
      "p --- 1254\n",
      "q --- 90\n",
      "r --- 3021\n",
      "s --- 3324\n",
      "t --- 2969\n",
      "u --- 1435\n",
      "v --- 524\n",
      "w --- 422\n",
      "x --- 137\n",
      "y --- 714\n",
      "z --- 39\n"
     ]
    }
   ],
   "source": [
    "#  Find out frequency of 26 characters. (Turn uppercase into lowercase and count as one character)\n",
    "A = 'abcdefghijklmnopqrstuvwxyz'\n",
    "\n",
    "letter_count = {}\n",
    "\n",
    "for word in P:\n",
    "    str = word\n",
    "    for l in str:\n",
    "        if l in A:\n",
    "            if l not in letter_count:\n",
    "                letter_count[l] = 1\n",
    "            else:\n",
    "                letter_count[l] += 1\n",
    "\n",
    "\n",
    "for c in A:\n",
    "    if c not in letter_count:\n",
    "        letter_count[c] = 0;\n",
    "    else:\n",
    "        break\n",
    "\n",
    "print('----Frequency of 26 characters----')\n",
    "for letter, count in sorted(letter_count.items()):\n",
    "    print(letter,'---',count)    "
   ]
  },
  {
   "cell_type": "code",
   "execution_count": 6,
   "metadata": {
    "collapsed": false
   },
   "outputs": [
    {
     "data": {
      "text/plain": [
       "[('e', 5643),\n",
       " ('i', 3472),\n",
       " ('n', 3377),\n",
       " ('s', 3324),\n",
       " ('r', 3021),\n",
       " ('t', 2969),\n",
       " ('a', 2883),\n",
       " ('o', 2439),\n",
       " ('d', 2021),\n",
       " ('l', 2002),\n",
       " ('c', 1684),\n",
       " ('u', 1435),\n",
       " ('p', 1254),\n",
       " ('g', 1251),\n",
       " ('m', 1020),\n",
       " ('h', 919),\n",
       " ('y', 714),\n",
       " ('f', 701),\n",
       " ('b', 626),\n",
       " ('v', 524),\n",
       " ('w', 422),\n",
       " ('k', 255),\n",
       " ('x', 137),\n",
       " ('q', 90),\n",
       " ('j', 76),\n",
       " ('z', 39)]"
      ]
     },
     "execution_count": 6,
     "metadata": {},
     "output_type": "execute_result"
    }
   ],
   "source": [
    "# List all 26 characters in order base on their frequency\n",
    "\n",
    "sorted(letter_count.items(), key=lambda x: x[1], reverse=True)"
   ]
  }
 ],
 "metadata": {
  "anaconda-cloud": {},
  "kernelspec": {
   "display_name": "Python [default]",
   "language": "python",
   "name": "python3"
  },
  "language_info": {
   "codemirror_mode": {
    "name": "ipython",
    "version": 3
   },
   "file_extension": ".py",
   "mimetype": "text/x-python",
   "name": "python",
   "nbconvert_exporter": "python",
   "pygments_lexer": "ipython3",
   "version": "3.5.2"
  }
 },
 "nbformat": 4,
 "nbformat_minor": 1
}
