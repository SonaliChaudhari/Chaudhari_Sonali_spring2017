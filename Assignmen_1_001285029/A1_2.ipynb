{
 "cells": [
  {
   "cell_type": "markdown",
   "metadata": {},
   "source": [
    "# Q2. Under package Gutenberg get content from file 'melville-moby_dick.txt.' (HINT: Words? Raw?)\n",
    "\n",
    "- Find out frequency of 26 characters. (Turn uppercase into lowercase and count as one character)\n",
    "- List all 26 characters in order base on their frequency. (From most frequent to least frequent)"
   ]
  },
  {
   "cell_type": "code",
   "execution_count": 1,
   "metadata": {
    "collapsed": true
   },
   "outputs": [],
   "source": [
    "import nltk"
   ]
  },
  {
   "cell_type": "code",
   "execution_count": 2,
   "metadata": {
    "collapsed": false
   },
   "outputs": [],
   "source": [
    "nltk.corpus.gutenberg.fileids()\n",
    "\n",
    "from nltk.corpus import gutenberg\n",
    "\n",
    "S = nltk.corpus.gutenberg.words('melville-moby_dick.txt')"
   ]
  },
  {
   "cell_type": "code",
   "execution_count": 3,
   "metadata": {
    "collapsed": true
   },
   "outputs": [],
   "source": [
    "P = set(word.lower() for word in S)"
   ]
  },
  {
   "cell_type": "code",
   "execution_count": 4,
   "metadata": {
    "collapsed": false
   },
   "outputs": [
    {
     "name": "stdout",
     "output_type": "stream",
     "text": [
      "----Frequency of 26 characters----\n",
      "a --- 9155\n",
      "b --- 2362\n",
      "c --- 4822\n",
      "d --- 5654\n",
      "e --- 15314\n",
      "f --- 1822\n",
      "g --- 4008\n",
      "h --- 3069\n",
      "i --- 10236\n",
      "j --- 245\n",
      "k --- 1102\n",
      "l --- 6961\n",
      "m --- 3191\n",
      "n --- 9724\n",
      "o --- 7064\n",
      "p --- 3594\n",
      "q --- 228\n",
      "r --- 8793\n",
      "s --- 10393\n",
      "t --- 8326\n",
      "u --- 4398\n",
      "v --- 1440\n",
      "w --- 1376\n",
      "x --- 323\n",
      "y --- 2174\n",
      "z --- 237\n"
     ]
    }
   ],
   "source": [
    "#  Find out frequency of 26 characters. (Turn uppercase into lowercase and count as one character)\n",
    "A = 'abcdefghijklmnopqrstuvwxyz'\n",
    "\n",
    "letter_count = {}\n",
    "\n",
    "for word in P:\n",
    "    str = word\n",
    "    for l in str:\n",
    "        if l in A:\n",
    "            if l not in letter_count:\n",
    "                letter_count[l] = 1\n",
    "            else:\n",
    "                letter_count[l] += 1\n",
    "\n",
    "\n",
    "for c in A:\n",
    "    if c not in letter_count:\n",
    "        letter_count[c] = 0;\n",
    "    else:\n",
    "        break\n",
    "\n",
    "print('----Frequency of 26 characters----')\n",
    "for letter, count in sorted(letter_count.items()):\n",
    "    print(letter,'---',count)    "
   ]
  },
  {
   "cell_type": "code",
   "execution_count": 5,
   "metadata": {
    "collapsed": false
   },
   "outputs": [
    {
     "data": {
      "text/plain": [
       "[('e', 15314),\n",
       " ('s', 10393),\n",
       " ('i', 10236),\n",
       " ('n', 9724),\n",
       " ('a', 9155),\n",
       " ('r', 8793),\n",
       " ('t', 8326),\n",
       " ('o', 7064),\n",
       " ('l', 6961),\n",
       " ('d', 5654),\n",
       " ('c', 4822),\n",
       " ('u', 4398),\n",
       " ('g', 4008),\n",
       " ('p', 3594),\n",
       " ('m', 3191),\n",
       " ('h', 3069),\n",
       " ('b', 2362),\n",
       " ('y', 2174),\n",
       " ('f', 1822),\n",
       " ('v', 1440),\n",
       " ('w', 1376),\n",
       " ('k', 1102),\n",
       " ('x', 323),\n",
       " ('j', 245),\n",
       " ('z', 237),\n",
       " ('q', 228)]"
      ]
     },
     "execution_count": 5,
     "metadata": {},
     "output_type": "execute_result"
    }
   ],
   "source": [
    "# List all 26 characters in order base on their frequency\n",
    "\n",
    "sorted(letter_count.items(), key=lambda x: x[1], reverse=True)"
   ]
  },
  {
   "cell_type": "code",
   "execution_count": null,
   "metadata": {
    "collapsed": true
   },
   "outputs": [],
   "source": []
  }
 ],
 "metadata": {
  "anaconda-cloud": {},
  "kernelspec": {
   "display_name": "Python [default]",
   "language": "python",
   "name": "python3"
  },
  "language_info": {
   "codemirror_mode": {
    "name": "ipython",
    "version": 3
   },
   "file_extension": ".py",
   "mimetype": "text/x-python",
   "name": "python",
   "nbconvert_exporter": "python",
   "pygments_lexer": "ipython3",
   "version": "3.5.2"
  }
 },
 "nbformat": 4,
 "nbformat_minor": 1
}
