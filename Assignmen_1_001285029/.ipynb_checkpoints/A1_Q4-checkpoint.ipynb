{
 "cells": [
  {
   "cell_type": "markdown",
   "metadata": {},
   "source": [
    "# Q 4. Under package nps_chat, see what files are in it.\n",
    "\n",
    "- Find 'user121' and see how many posts he posted in all.\n",
    "\n",
    "- Find out how many unique user in each age range group. (20s, 30s,...)(Hint: files' name)"
   ]
  },
  {
   "cell_type": "code",
   "execution_count": 1,
   "metadata": {
    "collapsed": false
   },
   "outputs": [],
   "source": [
    "import nltk"
   ]
  },
  {
   "cell_type": "code",
   "execution_count": 2,
   "metadata": {
    "collapsed": false
   },
   "outputs": [
    {
     "data": {
      "text/plain": [
       "['10-19-20s_706posts.xml',\n",
       " '10-19-30s_705posts.xml',\n",
       " '10-19-40s_686posts.xml',\n",
       " '10-19-adults_706posts.xml',\n",
       " '10-24-40s_706posts.xml',\n",
       " '10-26-teens_706posts.xml',\n",
       " '11-06-adults_706posts.xml',\n",
       " '11-08-20s_705posts.xml',\n",
       " '11-08-40s_706posts.xml',\n",
       " '11-08-adults_705posts.xml',\n",
       " '11-08-teens_706posts.xml',\n",
       " '11-09-20s_706posts.xml',\n",
       " '11-09-40s_706posts.xml',\n",
       " '11-09-adults_706posts.xml',\n",
       " '11-09-teens_706posts.xml']"
      ]
     },
     "execution_count": 2,
     "metadata": {},
     "output_type": "execute_result"
    }
   ],
   "source": [
    "from nltk.corpus import nps_chat\n",
    "nps_chat.fileids()"
   ]
  },
  {
   "cell_type": "code",
   "execution_count": 3,
   "metadata": {
    "collapsed": true
   },
   "outputs": [],
   "source": [
    "import re\n",
    "from os.path import basename\n",
    "from os.path import splitext"
   ]
  },
  {
   "cell_type": "code",
   "execution_count": 4,
   "metadata": {
    "collapsed": false
   },
   "outputs": [
    {
     "name": "stdout",
     "output_type": "stream",
     "text": [
      "Chats by User121 in  10-19-20s_706posts.xml  :  68\n",
      "Chats by User121 in  10-19-30s_705posts.xml  :  0\n",
      "Chats by User121 in  10-19-40s_686posts.xml  :  0\n",
      "Chats by User121 in  10-19-adults_706posts.xml  :  0\n",
      "Chats by User121 in  10-24-40s_706posts.xml  :  0\n",
      "Chats by User121 in  10-26-teens_706posts.xml  :  2\n",
      "Chats by User121 in  11-06-adults_706posts.xml  :  1\n",
      "Chats by User121 in  11-08-20s_705posts.xml  :  27\n",
      "Chats by User121 in  11-08-40s_706posts.xml  :  0\n",
      "Chats by User121 in  11-08-adults_705posts.xml  :  2\n",
      "Chats by User121 in  11-08-teens_706posts.xml  :  3\n",
      "Chats by User121 in  11-09-20s_706posts.xml  :  6\n",
      "Chats by User121 in  11-09-40s_706posts.xml  :  0\n",
      "Chats by User121 in  11-09-adults_706posts.xml  :  0\n",
      "Chats by User121 in  11-09-teens_706posts.xml  :  3\n",
      "\n",
      "TOTAL CHATS OF User121 ARE :  112\n"
     ]
    }
   ],
   "source": [
    "# Find 'user121' and see how many posts he posted in all.\n",
    "\n",
    "total_count = 0\n",
    "\n",
    "for file in nltk.corpus.nps_chat.fileids():\n",
    "    count = 0\n",
    "   # user = basename(file)\n",
    "   # user = splitext(user)[0]\n",
    "    A = nltk.corpus.nps_chat.raw(file) \n",
    "    B = set(A.split(\"\\n\"))\n",
    "    for line in B:\n",
    "        #if line.strip().startswith(\"<Post \"):\n",
    "            if 'User121\">' in line:\n",
    "                count += 1 \n",
    "    print(\"Chats by User121 in \",file,\" : \",count)\n",
    "    total_count += count\n",
    "\n",
    "print(\"\\nTOTAL CHATS OF User121 ARE : \",total_count)\n"
   ]
  },
  {
   "cell_type": "code",
   "execution_count": 5,
   "metadata": {
    "collapsed": false
   },
   "outputs": [
    {
     "name": "stdout",
     "output_type": "stream",
     "text": [
      "*****UNIQUE USERS PER GROUP*****\n",
      "\n",
      "Number of Unique Users in age group 20s   : 162\n",
      "\n",
      "Number of Unique Users in age group 30s   : 44\n",
      "\n",
      "Number of Unique Users in age group 40s   : 80\n",
      "\n",
      "Number of Unique Users in age group Adults: 138\n",
      "\n",
      "Number of Unique Users in age group Teens : 206\n"
     ]
    }
   ],
   "source": [
    "# Find out how many unique user in each age range group. (20s, 30s,...)(Hint: files' name)\n",
    "\n",
    "g20 = []\n",
    "g30 = []\n",
    "g40 = []\n",
    "g_adults = []\n",
    "g_teens = []\n",
    "\n",
    "for file in nltk.corpus.nps_chat.fileids():\n",
    "    X = nltk.corpus.nps_chat.raw(file)\n",
    "    base = basename(file)\n",
    "    base = splitext(base)[0][6:9]\n",
    "    if base in '20s':\n",
    "       for line in X.split('\\n'):\n",
    "           if line.strip().startswith('<Post '):\n",
    "             g20.append(re.findall(r'User([^(]*)\\\">', line))\n",
    "             \n",
    "    if base in '30s':\n",
    "       for line in X.split('\\n'):\n",
    "           if line.strip().startswith('<Post '):\n",
    "             g30.append(re.findall(r'User([^(]*)\\\">', line))\n",
    "              \n",
    "    if base in '40s':\n",
    "       for line in X.split('\\n'):\n",
    "           if line.strip().startswith('<Post '):\n",
    "             g40.append(re.findall(r'User([^(]*)\\\">', line))\n",
    "              \n",
    "    if base in 'adults':\n",
    "        for line in X.split('\\n'):\n",
    "           if line.strip().startswith('<Post '):\n",
    "             g_adults.append(re.findall(r'User([^(]*)\\\">', line))\n",
    "             \n",
    "    if base in 'teens':    \n",
    "        for line in X.split('\\n'):\n",
    "           if line.strip().startswith('<Post '):\n",
    "             g_teens.append(re.findall(r'User([^(]*)\\\">', line))\n",
    "             \n",
    "g20=sum(g20,[])\n",
    "g30=sum(g30,[])\n",
    "g40=sum(g40,[])\n",
    "g_adults=sum(g_adults,[])\n",
    "g_teens=sum(g_teens,[])        \n",
    "\n",
    "print(\"*****UNIQUE USERS PER GROUP*****\")\n",
    "print(\"\\nNumber of Unique Users in age group 20s   :\",len(set(g20)))\n",
    "print(\"\\nNumber of Unique Users in age group 30s   :\",len(set(g30)))\n",
    "print(\"\\nNumber of Unique Users in age group 40s   :\",len(set(g40)))\n",
    "print(\"\\nNumber of Unique Users in age group Adults:\",len(set(g_adults)))\n",
    "print(\"\\nNumber of Unique Users in age group Teens :\",len(set(g_teens)))\n",
    "   "
   ]
  },
  {
   "cell_type": "code",
   "execution_count": null,
   "metadata": {
    "collapsed": true
   },
   "outputs": [],
   "source": []
  }
 ],
 "metadata": {
  "anaconda-cloud": {},
  "kernelspec": {
   "display_name": "Python [conda root]",
   "language": "python",
   "name": "conda-root-py"
  },
  "language_info": {
   "codemirror_mode": {
    "name": "ipython",
    "version": 3
   },
   "file_extension": ".py",
   "mimetype": "text/x-python",
   "name": "python",
   "nbconvert_exporter": "python",
   "pygments_lexer": "ipython3",
   "version": "3.5.2"
  }
 },
 "nbformat": 4,
 "nbformat_minor": 1
}
