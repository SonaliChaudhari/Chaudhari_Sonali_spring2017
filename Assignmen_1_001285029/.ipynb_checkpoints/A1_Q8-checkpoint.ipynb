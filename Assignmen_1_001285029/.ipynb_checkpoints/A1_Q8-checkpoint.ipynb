{
 "cells": [
  {
   "cell_type": "markdown",
   "metadata": {},
   "source": [
    "# Q.8 Use nps_chat and wordlist corpus.\n",
    "\n",
    "- If you find a word in nps_chat but not in wordlist, it is considered an unusual word. (e.g. Heyyyy, gr8, 4ever can be considered unusual words for this analysis)\n",
    "- Find out how many unusual words people speak in chat (notice: usernames should not be counted)\n",
    "Bonus: What if I want to  count : ) , : ( all these emoticons in. (optional)"
   ]
  },
  {
   "cell_type": "code",
   "execution_count": 22,
   "metadata": {
    "collapsed": false
   },
   "outputs": [],
   "source": [
    "import nltk\n",
    "nltk.corpus.nps_chat.fileids()\n",
    "import string"
   ]
  },
  {
   "cell_type": "code",
   "execution_count": 23,
   "metadata": {
    "collapsed": false
   },
   "outputs": [
    {
     "name": "stdout",
     "output_type": "stream",
     "text": [
      "Number of words in wordlist:  236736\n"
     ]
    }
   ],
   "source": [
    "word_list=nltk.corpus.words.words() \n",
    "print(\"Number of words in wordlist: \",len(word_list))"
   ]
  },
  {
   "cell_type": "code",
   "execution_count": 24,
   "metadata": {
    "collapsed": false
   },
   "outputs": [
    {
     "name": "stdout",
     "output_type": "stream",
     "text": [
      "Number of words in mps_chats:  5219\n"
     ]
    }
   ],
   "source": [
    "# Calculating number of words in nps_chats\n",
    "t_nps = []\n",
    "\n",
    "for file in nltk.corpus.nps_chat.fileids():\n",
    "    text = nltk.corpus.nps_chat.words(file)\n",
    "    A=text\n",
    "    t_nps.append(A)\n",
    "B=sum(t_nps,[]) \n",
    "B=list(set([x.lower() for x in B]))\n",
    "\n",
    "C=[''.join(c for c in s if c not in string.punctuation) for s in B] # Removing punctuations\n",
    "C = [s for s in C if s]\n",
    "print(\"Number of words in mps_chats: \",len(C))"
   ]
  },
  {
   "cell_type": "code",
   "execution_count": 25,
   "metadata": {
    "collapsed": false
   },
   "outputs": [
    {
     "name": "stdout",
     "output_type": "stream",
     "text": [
      "Number of word in nps_chat but not in wordlist:  2727\n"
     ]
    }
   ],
   "source": [
    "# Number of word in nps_chat but not in wordlist\n",
    "US = []\n",
    "count = 0\n",
    "for word in C:\n",
    "    if word not in word_list:\n",
    "        US.append(word)\n",
    "        count +=1\n",
    "print(\"Number of word in nps_chat but not in wordlist: \",count)"
   ]
  },
  {
   "cell_type": "code",
   "execution_count": 26,
   "metadata": {
    "collapsed": false
   },
   "outputs": [
    {
     "name": "stdout",
     "output_type": "stream",
     "text": [
      "Number of users:  404\n"
     ]
    }
   ],
   "source": [
    "user = []\n",
    "user_count = 0\n",
    "for word in US:\n",
    "    if word.startswith(\"u\"):\n",
    "        for l in word:\n",
    "             if l.isdigit():\n",
    "                user.append(word)\n",
    "                user_count +=1\n",
    "print(\"Number of users: \",user_count)\n",
    "            "
   ]
  },
  {
   "cell_type": "code",
   "execution_count": 27,
   "metadata": {
    "collapsed": false
   },
   "outputs": [
    {
     "name": "stdout",
     "output_type": "stream",
     "text": [
      "TOTAL NUMBER OF UNUSUAL WORDS ARE : 2323\n"
     ]
    }
   ],
   "source": [
    "# Final Unusual WordCount\n",
    "Unusual_count = count- user_count\n",
    "print(\"TOTAL NUMBER OF UNUSUAL WORDS ARE :\",Unusual_count)\n"
   ]
  }
 ],
 "metadata": {
  "anaconda-cloud": {},
  "kernelspec": {
   "display_name": "Python [conda root]",
   "language": "python",
   "name": "conda-root-py"
  },
  "language_info": {
   "codemirror_mode": {
    "name": "ipython",
    "version": 3
   },
   "file_extension": ".py",
   "mimetype": "text/x-python",
   "name": "python",
   "nbconvert_exporter": "python",
   "pygments_lexer": "ipython3",
   "version": "3.5.2"
  }
 },
 "nbformat": 4,
 "nbformat_minor": 1
}
