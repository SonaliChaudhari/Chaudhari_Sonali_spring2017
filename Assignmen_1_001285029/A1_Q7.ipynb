{
 "cells": [
  {
   "cell_type": "markdown",
   "metadata": {},
   "source": [
    "# Q.7 Use Name corpus, calculate the probability of a name being of a male or female base on the last character(s) of name.\n",
    "Sample steps:\n",
    "1. For char ‘a’:\n",
    "\ttotal_names = sum(names ending with ‘a’)\n",
    "\tmale_names = sum(male names ending with ‘a’)\n",
    "\tfemale_names = sum(female names ending with ‘a’)\n",
    "\tProbability of name being male = 100 * male_names / total_names\n",
    "2. Do this for all characters. \n",
    "Output must come with proper title (e.g. [a] male: 25%, female: 60%)"
   ]
  },
  {
   "cell_type": "code",
   "execution_count": 1,
   "metadata": {
    "collapsed": true
   },
   "outputs": [],
   "source": [
    "import nltk\n",
    "from nltk.corpus import names"
   ]
  },
  {
   "cell_type": "code",
   "execution_count": 4,
   "metadata": {
    "collapsed": false
   },
   "outputs": [
    {
     "data": {
      "text/plain": [
       "['female.txt', 'male.txt']"
      ]
     },
     "execution_count": 4,
     "metadata": {},
     "output_type": "execute_result"
    }
   ],
   "source": [
    "names.fileids()"
   ]
  },
  {
   "cell_type": "code",
   "execution_count": 20,
   "metadata": {
    "collapsed": false
   },
   "outputs": [],
   "source": [
    "F = nltk.corpus.names.words('female.txt')\n",
    "M = nltk.corpus.names.words('male.txt')"
   ]
  },
  {
   "cell_type": "code",
   "execution_count": 16,
   "metadata": {
    "collapsed": false
   },
   "outputs": [
    {
     "name": "stdout",
     "output_type": "stream",
     "text": [
      "TOTAL FEMALES NAMES:  5001\n",
      "TOTAL MALES NAMES:  2943\n",
      "THEREFORE TOTAL NAMES PRESENT ARE:  7944\n"
     ]
    }
   ],
   "source": [
    "len(F)\n",
    "len(M)\n",
    "T = len((F)+(M))\n",
    "print(\"TOTAL FEMALES NAMES: \", len(F))\n",
    "print(\"TOTAL MALES NAMES: \", len(M))\n",
    "print(\"THEREFORE TOTAL NAMES PRESENT ARE: \", T)"
   ]
  },
  {
   "cell_type": "code",
   "execution_count": 18,
   "metadata": {
    "collapsed": false
   },
   "outputs": [
    {
     "name": "stdout",
     "output_type": "stream",
     "text": [
      "COUNT OF FEMALE NAMES ENDING WITH 'a' 1773\n"
     ]
    }
   ],
   "source": [
    "f_count = 0\n",
    "\n",
    "for name in F:\n",
    "    if name.endswith('a'):\n",
    "        f_count += 1\n",
    "print(\"COUNT OF FEMALE NAMES ENDING WITH 'a'\",f_count )"
   ]
  },
  {
   "cell_type": "code",
   "execution_count": 21,
   "metadata": {
    "collapsed": false
   },
   "outputs": [
    {
     "name": "stdout",
     "output_type": "stream",
     "text": [
      "COUNT OF MALE NAMES ENDING WITH 'a' 29\n"
     ]
    }
   ],
   "source": [
    "m_count = 0\n",
    "\n",
    "for name in M:\n",
    "    if name.endswith('a'):\n",
    "        m_count += 1\n",
    "print(\"COUNT OF MALE NAMES ENDING WITH 'a'\",m_count )"
   ]
  },
  {
   "cell_type": "code",
   "execution_count": 31,
   "metadata": {
    "collapsed": false
   },
   "outputs": [
    {
     "name": "stdout",
     "output_type": "stream",
     "text": [
      "----PROBABILITY OF NAME BEING A MALE OR FEMALE----\n",
      "\n",
      "FOR MALE    : 37.046827794561935\n",
      "FOR FEMALE  : 62.953172205438065\n",
      "\n",
      "---OUTPUT---\n",
      "\n",
      "[a] male   : 37.046827794561935 %\n",
      "[b] female : 62.953172205438065 %\n"
     ]
    }
   ],
   "source": [
    "prob_male = len(M)*100/T\n",
    "\n",
    "prob_female = len(F)*100/T\n",
    "\n",
    "print(\"----PROBABILITY OF NAME BEING A MALE OR FEMALE----\\n\")\n",
    "print(\"FOR MALE    :\", prob_male)\n",
    "print(\"FOR FEMALE  :\", prob_female)\n",
    "\n",
    "print(\"\\n---OUTPUT---\")\n",
    "print(\"\\n[a] male   :\",prob_male,\"%\")\n",
    "print(\"[b] female :\",prob_female,\"%\")"
   ]
  },
  {
   "cell_type": "code",
   "execution_count": 33,
   "metadata": {
    "collapsed": false
   },
   "outputs": [
    {
     "name": "stdout",
     "output_type": "stream",
     "text": [
      "['a', 'b', 'c', 'd', 'e', 'f', 'g', 'h', 'i', 'j', 'k', 'l', 'm', 'n', 'o', 'p', 'q', 'r', 's', 't', 'u', 'v', 'w', 'x', 'y', 'z']\n"
     ]
    }
   ],
   "source": [
    "letter=['a','b','c','d','e','f','g','h','i','j','k','l','m','n','o','p','q','r','s','t','u','v','w','x','y','z']\n",
    "print(letter)"
   ]
  },
  {
   "cell_type": "code",
   "execution_count": 50,
   "metadata": {
    "collapsed": false
   },
   "outputs": [
    {
     "name": "stdout",
     "output_type": "stream",
     "text": [
      "\n",
      "*****************************FOR letter: a ***********************************\n",
      "COUNT OF FEMALE NAMES: 1773        COUNT OF MALE NAMES  : 29\n",
      "                  TOTAL NAME : 1802\n",
      "\n",
      "PROBABILITY OF NAME BEING A MALE OR FEMALE\n",
      "[ a ] FOR MALE    : 2 %        FOR FEMALE  : 98 %\n",
      "\n",
      "*****************************FOR letter: b ***********************************\n",
      "COUNT OF FEMALE NAMES: 1782        COUNT OF MALE NAMES  : 50\n",
      "                  TOTAL NAME : 1832\n",
      "\n",
      "PROBABILITY OF NAME BEING A MALE OR FEMALE\n",
      "[ b ] FOR MALE    : 3 %        FOR FEMALE  : 97 %\n",
      "\n",
      "*****************************FOR letter: c ***********************************\n",
      "COUNT OF FEMALE NAMES: 1782        COUNT OF MALE NAMES  : 75\n",
      "                  TOTAL NAME : 1857\n",
      "\n",
      "PROBABILITY OF NAME BEING A MALE OR FEMALE\n",
      "[ c ] FOR MALE    : 4 %        FOR FEMALE  : 96 %\n",
      "\n",
      "*****************************FOR letter: d ***********************************\n",
      "COUNT OF FEMALE NAMES: 1821        COUNT OF MALE NAMES  : 303\n",
      "                  TOTAL NAME : 2124\n",
      "\n",
      "PROBABILITY OF NAME BEING A MALE OR FEMALE\n",
      "[ d ] FOR MALE    : 14 %        FOR FEMALE  : 86 %\n",
      "\n",
      "*****************************FOR letter: e ***********************************\n",
      "COUNT OF FEMALE NAMES: 3253        COUNT OF MALE NAMES  : 771\n",
      "                  TOTAL NAME : 4024\n",
      "\n",
      "PROBABILITY OF NAME BEING A MALE OR FEMALE\n",
      "[ e ] FOR MALE    : 19 %        FOR FEMALE  : 81 %\n",
      "\n",
      "*****************************FOR letter: f ***********************************\n",
      "COUNT OF FEMALE NAMES: 3255        COUNT OF MALE NAMES  : 796\n",
      "                  TOTAL NAME : 4051\n",
      "\n",
      "PROBABILITY OF NAME BEING A MALE OR FEMALE\n",
      "[ f ] FOR MALE    : 20 %        FOR FEMALE  : 80 %\n",
      "\n",
      "*****************************FOR letter: g ***********************************\n",
      "COUNT OF FEMALE NAMES: 3265        COUNT OF MALE NAMES  : 828\n",
      "                  TOTAL NAME : 4093\n",
      "\n",
      "PROBABILITY OF NAME BEING A MALE OR FEMALE\n",
      "[ g ] FOR MALE    : 20 %        FOR FEMALE  : 80 %\n",
      "\n",
      "*****************************FOR letter: h ***********************************\n",
      "COUNT OF FEMALE NAMES: 3370        COUNT OF MALE NAMES  : 921\n",
      "                  TOTAL NAME : 4291\n",
      "\n",
      "PROBABILITY OF NAME BEING A MALE OR FEMALE\n",
      "[ h ] FOR MALE    : 21 %        FOR FEMALE  : 79 %\n",
      "\n",
      "*****************************FOR letter: i ***********************************\n",
      "COUNT OF FEMALE NAMES: 3687        COUNT OF MALE NAMES  : 971\n",
      "                  TOTAL NAME : 4658\n",
      "\n",
      "PROBABILITY OF NAME BEING A MALE OR FEMALE\n",
      "[ i ] FOR MALE    : 21 %        FOR FEMALE  : 79 %\n",
      "\n",
      "*****************************FOR letter: j ***********************************\n",
      "COUNT OF FEMALE NAMES: 3688        COUNT OF MALE NAMES  : 974\n",
      "                  TOTAL NAME : 4662\n",
      "\n",
      "PROBABILITY OF NAME BEING A MALE OR FEMALE\n",
      "[ j ] FOR MALE    : 21 %        FOR FEMALE  : 79 %\n",
      "\n",
      "*****************************FOR letter: k ***********************************\n",
      "COUNT OF FEMALE NAMES: 3691        COUNT OF MALE NAMES  : 1043\n",
      "                  TOTAL NAME : 4734\n",
      "\n",
      "PROBABILITY OF NAME BEING A MALE OR FEMALE\n",
      "[ k ] FOR MALE    : 22 %        FOR FEMALE  : 78 %\n",
      "\n",
      "*****************************FOR letter: l ***********************************\n",
      "COUNT OF FEMALE NAMES: 3870        COUNT OF MALE NAMES  : 1230\n",
      "                  TOTAL NAME : 5100\n",
      "\n",
      "PROBABILITY OF NAME BEING A MALE OR FEMALE\n",
      "[ l ] FOR MALE    : 24 %        FOR FEMALE  : 76 %\n",
      "\n",
      "*****************************FOR letter: m ***********************************\n",
      "COUNT OF FEMALE NAMES: 3883        COUNT OF MALE NAMES  : 1300\n",
      "                  TOTAL NAME : 5183\n",
      "\n",
      "PROBABILITY OF NAME BEING A MALE OR FEMALE\n",
      "[ m ] FOR MALE    : 25 %        FOR FEMALE  : 75 %\n",
      "\n",
      "*****************************FOR letter: n ***********************************\n",
      "COUNT OF FEMALE NAMES: 4269        COUNT OF MALE NAMES  : 1778\n",
      "                  TOTAL NAME : 6047\n",
      "\n",
      "PROBABILITY OF NAME BEING A MALE OR FEMALE\n",
      "[ n ] FOR MALE    : 29 %        FOR FEMALE  : 71 %\n",
      "\n",
      "*****************************FOR letter: o ***********************************\n",
      "COUNT OF FEMALE NAMES: 4302        COUNT OF MALE NAMES  : 1943\n",
      "                  TOTAL NAME : 6245\n",
      "\n",
      "PROBABILITY OF NAME BEING A MALE OR FEMALE\n",
      "[ o ] FOR MALE    : 31 %        FOR FEMALE  : 69 %\n",
      "\n",
      "*****************************FOR letter: p ***********************************\n",
      "COUNT OF FEMALE NAMES: 4304        COUNT OF MALE NAMES  : 1961\n",
      "                  TOTAL NAME : 6265\n",
      "\n",
      "PROBABILITY OF NAME BEING A MALE OR FEMALE\n",
      "[ p ] FOR MALE    : 31 %        FOR FEMALE  : 69 %\n",
      "\n",
      "*****************************FOR letter: q ***********************************\n",
      "COUNT OF FEMALE NAMES: 4304        COUNT OF MALE NAMES  : 1961\n",
      "                  TOTAL NAME : 6265\n",
      "\n",
      "PROBABILITY OF NAME BEING A MALE OR FEMALE\n",
      "[ q ] FOR MALE    : 31 %        FOR FEMALE  : 69 %\n",
      "\n",
      "*****************************FOR letter: r ***********************************\n",
      "COUNT OF FEMALE NAMES: 4351        COUNT OF MALE NAMES  : 2151\n",
      "                  TOTAL NAME : 6502\n",
      "\n",
      "PROBABILITY OF NAME BEING A MALE OR FEMALE\n",
      "[ r ] FOR MALE    : 33 %        FOR FEMALE  : 67 %\n",
      "\n",
      "*****************************FOR letter: s ***********************************\n",
      "COUNT OF FEMALE NAMES: 4444        COUNT OF MALE NAMES  : 2381\n",
      "                  TOTAL NAME : 6825\n",
      "\n",
      "PROBABILITY OF NAME BEING A MALE OR FEMALE\n",
      "[ s ] FOR MALE    : 35 %        FOR FEMALE  : 65 %\n",
      "\n",
      "*****************************FOR letter: t ***********************************\n",
      "COUNT OF FEMALE NAMES: 4512        COUNT OF MALE NAMES  : 2545\n",
      "                  TOTAL NAME : 7057\n",
      "\n",
      "PROBABILITY OF NAME BEING A MALE OR FEMALE\n",
      "[ t ] FOR MALE    : 36 %        FOR FEMALE  : 64 %\n",
      "\n",
      "*****************************FOR letter: u ***********************************\n",
      "COUNT OF FEMALE NAMES: 4518        COUNT OF MALE NAMES  : 2557\n",
      "                  TOTAL NAME : 7075\n",
      "\n",
      "PROBABILITY OF NAME BEING A MALE OR FEMALE\n",
      "[ u ] FOR MALE    : 36 %        FOR FEMALE  : 64 %\n",
      "\n",
      "*****************************FOR letter: v ***********************************\n",
      "COUNT OF FEMALE NAMES: 4520        COUNT OF MALE NAMES  : 2573\n",
      "                  TOTAL NAME : 7093\n",
      "\n",
      "PROBABILITY OF NAME BEING A MALE OR FEMALE\n",
      "[ v ] FOR MALE    : 36 %        FOR FEMALE  : 64 %\n",
      "\n",
      "*****************************FOR letter: w ***********************************\n",
      "COUNT OF FEMALE NAMES: 4525        COUNT OF MALE NAMES  : 2590\n",
      "                  TOTAL NAME : 7115\n",
      "\n",
      "PROBABILITY OF NAME BEING A MALE OR FEMALE\n",
      "[ w ] FOR MALE    : 36 %        FOR FEMALE  : 64 %\n",
      "\n",
      "*****************************FOR letter: x ***********************************\n",
      "COUNT OF FEMALE NAMES: 4535        COUNT OF MALE NAMES  : 2600\n",
      "                  TOTAL NAME : 7135\n",
      "\n",
      "PROBABILITY OF NAME BEING A MALE OR FEMALE\n",
      "[ x ] FOR MALE    : 36 %        FOR FEMALE  : 64 %\n",
      "\n",
      "*****************************FOR letter: y ***********************************\n",
      "COUNT OF FEMALE NAMES: 4996        COUNT OF MALE NAMES  : 2932\n",
      "                  TOTAL NAME : 7928\n",
      "\n",
      "PROBABILITY OF NAME BEING A MALE OR FEMALE\n",
      "[ y ] FOR MALE    : 37 %        FOR FEMALE  : 63 %\n",
      "\n",
      "*****************************FOR letter: z ***********************************\n",
      "COUNT OF FEMALE NAMES: 5000        COUNT OF MALE NAMES  : 2943\n",
      "                  TOTAL NAME : 7943\n",
      "\n",
      "PROBABILITY OF NAME BEING A MALE OR FEMALE\n",
      "[ z ] FOR MALE    : 37 %        FOR FEMALE  : 63 %\n"
     ]
    }
   ],
   "source": [
    "f_count = 0\n",
    "m_count = 0\n",
    "t_count = 0\n",
    "prob_male = 0\n",
    "prob_female = 0\n",
    "\n",
    "for l in letter:\n",
    "    for name in F:\n",
    "        if name.endswith(l):\n",
    "            f_count += 1\n",
    "            #print(\"COUNT OF FEMALE NAMES ENDING WITH 'a'\",f_count )\n",
    "        else:\n",
    "            f_count += 0\n",
    "     \n",
    "    for name in M:\n",
    "        if name.endswith(l):\n",
    "            m_count += 1\n",
    "    #print(\"COUNT OF MALE NAMES ENDING WITH 'a'\",m_count )\n",
    "    t_count = f_count + m_count\n",
    "    print(\"\\n*****************************FOR letter:\",l,\"***********************************\")\n",
    "    print(\"COUNT OF FEMALE NAMES:\",f_count,\"      \",\"COUNT OF MALE NAMES  :\",m_count)   \n",
    "    print(\"                  TOTAL NAME :\",t_count)\n",
    "    prob_male = round(m_count*100/t_count)\n",
    "    prob_female = round(f_count*100/t_count)\n",
    "    print(\"\\nPROBABILITY OF NAME BEING A MALE OR FEMALE\")\n",
    "    print(\"[\",l,\"]\",\"FOR MALE    :\", prob_male,\"%\",\"      \",\"FOR FEMALE  :\", prob_female,\"%\")\n",
    "\n"
   ]
  }
 ],
 "metadata": {
  "anaconda-cloud": {},
  "kernelspec": {
   "display_name": "Python [conda root]",
   "language": "python",
   "name": "conda-root-py"
  },
  "language_info": {
   "codemirror_mode": {
    "name": "ipython",
    "version": 3
   },
   "file_extension": ".py",
   "mimetype": "text/x-python",
   "name": "python",
   "nbconvert_exporter": "python",
   "pygments_lexer": "ipython3",
   "version": "3.5.2"
  }
 },
 "nbformat": 4,
 "nbformat_minor": 1
}
