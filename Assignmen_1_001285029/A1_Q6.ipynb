{
 "cells": [
  {
   "cell_type": "markdown",
   "metadata": {},
   "source": [
    "# Q.6 Under Inaugural Address package\n",
    "\n",
    "- For every president, find out how many unique words they used in speech. \n",
    "\n",
    "- We will just assume that President Bush means one person (technically it is incorrect but we will ignore it)"
   ]
  },
  {
   "cell_type": "code",
   "execution_count": 5,
   "metadata": {
    "collapsed": false
   },
   "outputs": [
    {
     "data": {
      "text/plain": [
       "['1789-Washington.txt',\n",
       " '1793-Washington.txt',\n",
       " '1797-Adams.txt',\n",
       " '1801-Jefferson.txt',\n",
       " '1805-Jefferson.txt',\n",
       " '1809-Madison.txt',\n",
       " '1813-Madison.txt',\n",
       " '1817-Monroe.txt',\n",
       " '1821-Monroe.txt',\n",
       " '1825-Adams.txt',\n",
       " '1829-Jackson.txt',\n",
       " '1833-Jackson.txt',\n",
       " '1837-VanBuren.txt',\n",
       " '1841-Harrison.txt',\n",
       " '1845-Polk.txt',\n",
       " '1849-Taylor.txt',\n",
       " '1853-Pierce.txt',\n",
       " '1857-Buchanan.txt',\n",
       " '1861-Lincoln.txt',\n",
       " '1865-Lincoln.txt',\n",
       " '1869-Grant.txt',\n",
       " '1873-Grant.txt',\n",
       " '1877-Hayes.txt',\n",
       " '1881-Garfield.txt',\n",
       " '1885-Cleveland.txt',\n",
       " '1889-Harrison.txt',\n",
       " '1893-Cleveland.txt',\n",
       " '1897-McKinley.txt',\n",
       " '1901-McKinley.txt',\n",
       " '1905-Roosevelt.txt',\n",
       " '1909-Taft.txt',\n",
       " '1913-Wilson.txt',\n",
       " '1917-Wilson.txt',\n",
       " '1921-Harding.txt',\n",
       " '1925-Coolidge.txt',\n",
       " '1929-Hoover.txt',\n",
       " '1933-Roosevelt.txt',\n",
       " '1937-Roosevelt.txt',\n",
       " '1941-Roosevelt.txt',\n",
       " '1945-Roosevelt.txt',\n",
       " '1949-Truman.txt',\n",
       " '1953-Eisenhower.txt',\n",
       " '1957-Eisenhower.txt',\n",
       " '1961-Kennedy.txt',\n",
       " '1965-Johnson.txt',\n",
       " '1969-Nixon.txt',\n",
       " '1973-Nixon.txt',\n",
       " '1977-Carter.txt',\n",
       " '1981-Reagan.txt',\n",
       " '1985-Reagan.txt',\n",
       " '1989-Bush.txt',\n",
       " '1993-Clinton.txt',\n",
       " '1997-Clinton.txt',\n",
       " '2001-Bush.txt',\n",
       " '2005-Bush.txt',\n",
       " '2009-Obama.txt']"
      ]
     },
     "execution_count": 5,
     "metadata": {},
     "output_type": "execute_result"
    }
   ],
   "source": [
    "import nltk\n",
    "from nltk.corpus import inaugural\n",
    "inaugural.fileids()"
   ]
  },
  {
   "cell_type": "code",
   "execution_count": 22,
   "metadata": {
    "collapsed": false
   },
   "outputs": [
    {
     "name": "stdout",
     "output_type": "stream",
     "text": [
      "1789-Washington  speech have  604  Unique words. \n",
      "1793-Washington  speech have  95  Unique words. \n",
      "1797-Adams  speech have  803  Unique words. \n",
      "1801-Jefferson  speech have  687  Unique words. \n",
      "1805-Jefferson  speech have  783  Unique words. \n",
      "1809-Madison  speech have  526  Unique words. \n",
      "1813-Madison  speech have  524  Unique words. \n",
      "1817-Monroe  speech have  987  Unique words. \n",
      "1821-Monroe  speech have  1213  Unique words. \n",
      "1825-Adams  speech have  972  Unique words. \n",
      "1829-Jackson  speech have  504  Unique words. \n",
      "1833-Jackson  speech have  482  Unique words. \n",
      "1837-VanBuren  speech have  1267  Unique words. \n",
      "1841-Harrison  speech have  1813  Unique words. \n",
      "1845-Polk  speech have  1267  Unique words. \n",
      "1849-Taylor  speech have  488  Unique words. \n",
      "1853-Pierce  speech have  1124  Unique words. \n",
      "1857-Buchanan  speech have  902  Unique words. \n",
      "1861-Lincoln  speech have  1019  Unique words. \n",
      "1865-Lincoln  speech have  345  Unique words. \n",
      "1869-Grant  speech have  474  Unique words. \n",
      "1873-Grant  speech have  530  Unique words. \n",
      "1877-Hayes  speech have  808  Unique words. \n",
      "1881-Garfield  speech have  981  Unique words. \n",
      "1885-Cleveland  speech have  650  Unique words. \n",
      "1889-Harrison  speech have  1313  Unique words. \n",
      "1893-Cleveland  speech have  799  Unique words. \n",
      "1897-McKinley  speech have  1199  Unique words. \n",
      "1901-McKinley  speech have  828  Unique words. \n",
      "1905-Roosevelt  speech have  388  Unique words. \n",
      "1909-Taft  speech have  1385  Unique words. \n",
      "1913-Wilson  speech have  637  Unique words. \n",
      "1917-Wilson  speech have  529  Unique words. \n",
      "1921-Harding  speech have  1126  Unique words. \n",
      "1925-Coolidge  speech have  1164  Unique words. \n",
      "1929-Hoover  speech have  998  Unique words. \n",
      "1933-Roosevelt  speech have  715  Unique words. \n",
      "1937-Roosevelt  speech have  698  Unique words. \n",
      "1941-Roosevelt  speech have  502  Unique words. \n",
      "1945-Roosevelt  speech have  270  Unique words. \n",
      "1949-Truman  speech have  745  Unique words. \n",
      "1953-Eisenhower  speech have  864  Unique words. \n",
      "1957-Eisenhower  speech have  592  Unique words. \n",
      "1961-Kennedy  speech have  546  Unique words. \n",
      "1965-Johnson  speech have  538  Unique words. \n",
      "1969-Nixon  speech have  714  Unique words. \n",
      "1973-Nixon  speech have  516  Unique words. \n",
      "1977-Carter  speech have  504  Unique words. \n",
      "1981-Reagan  speech have  855  Unique words. \n",
      "1985-Reagan  speech have  876  Unique words. \n",
      "1989-Bush  speech have  754  Unique words. \n",
      "1993-Clinton  speech have  604  Unique words. \n",
      "1997-Clinton  speech have  727  Unique words. \n",
      "2001-Bush  speech have  593  Unique words. \n",
      "2005-Bush  speech have  742  Unique words. \n",
      "2009-Obama  speech have  900  Unique words. \n"
     ]
    }
   ],
   "source": [
    "from os.path import basename\n",
    "from os.path import splitext\n",
    "\n",
    "words = 0\n",
    "for speech in nltk.corpus.inaugural.fileids():\n",
    "    text = nltk.corpus.inaugural.words(speech)\n",
    "    base = basename(speech)\n",
    "    name = splitext(base)[0]\n",
    "    words = len(set(a.lower() for a in text))\n",
    "    print(name, \" speech have \",words,\" Unique words. \")  "
   ]
  }
 ],
 "metadata": {
  "anaconda-cloud": {},
  "kernelspec": {
   "display_name": "Python [conda root]",
   "language": "python",
   "name": "conda-root-py"
  },
  "language_info": {
   "codemirror_mode": {
    "name": "ipython",
    "version": 3
   },
   "file_extension": ".py",
   "mimetype": "text/x-python",
   "name": "python",
   "nbconvert_exporter": "python",
   "pygments_lexer": "ipython3",
   "version": "3.5.2"
  }
 },
 "nbformat": 4,
 "nbformat_minor": 1
}
