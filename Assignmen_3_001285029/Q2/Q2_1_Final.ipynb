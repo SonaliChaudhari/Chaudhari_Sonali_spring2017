{
 "cells": [
  {
   "cell_type": "markdown",
   "metadata": {},
   "source": [
    "# Question 2 Part 1"
   ]
  },
  {
   "cell_type": "code",
   "execution_count": 1,
   "metadata": {
    "collapsed": true
   },
   "outputs": [],
   "source": [
    "import string\n",
    "import csv, sys\n",
    "from pandas import Series, DataFrame\n",
    "import pandas as pd"
   ]
  },
  {
   "cell_type": "code",
   "execution_count": 2,
   "metadata": {
    "collapsed": true
   },
   "outputs": [],
   "source": [
    "df = pd.read_csv('Data/employee_compensation.csv')\n",
    "\n",
    "s = pd.DataFrame(df[['Organization Group','Department','Total Compensation']])\n",
    "\n",
    "s['Total'] = s.groupby(['Department', 'Organization Group'])['Total Compensation'].transform('sum')"
   ]
  },
  {
   "cell_type": "code",
   "execution_count": 3,
   "metadata": {
    "collapsed": false
   },
   "outputs": [],
   "source": [
    "s = s.drop_duplicates(subset=['Department', 'Organization Group']) #, keep=False)"
   ]
  },
  {
   "cell_type": "code",
   "execution_count": 4,
   "metadata": {
    "collapsed": false
   },
   "outputs": [],
   "source": [
    "p = s[['Organization Group','Department','Total']]"
   ]
  },
  {
   "cell_type": "code",
   "execution_count": 5,
   "metadata": {
    "collapsed": false
   },
   "outputs": [
    {
     "data": {
      "text/html": [
       "<div>\n",
       "<table border=\"1\" class=\"dataframe\">\n",
       "  <thead>\n",
       "    <tr style=\"text-align: right;\">\n",
       "      <th></th>\n",
       "      <th>Organization Group</th>\n",
       "      <th>Department</th>\n",
       "      <th>Total</th>\n",
       "    </tr>\n",
       "  </thead>\n",
       "  <tbody>\n",
       "    <tr>\n",
       "      <th>0</th>\n",
       "      <td>Public Works, Transportation &amp; Commerce</td>\n",
       "      <td>Airport Commission</td>\n",
       "      <td>1.510304e+09</td>\n",
       "    </tr>\n",
       "    <tr>\n",
       "      <th>1</th>\n",
       "      <td>Community Health</td>\n",
       "      <td>Public Health</td>\n",
       "      <td>7.034581e+09</td>\n",
       "    </tr>\n",
       "    <tr>\n",
       "      <th>2</th>\n",
       "      <td>Human Welfare &amp; Neighborhood Development</td>\n",
       "      <td>Department of the Status of Women</td>\n",
       "      <td>5.948097e+06</td>\n",
       "    </tr>\n",
       "    <tr>\n",
       "      <th>3</th>\n",
       "      <td>General Administration &amp; Finance</td>\n",
       "      <td>Human Resources</td>\n",
       "      <td>1.688854e+08</td>\n",
       "    </tr>\n",
       "    <tr>\n",
       "      <th>4</th>\n",
       "      <td>Culture &amp; Recreation</td>\n",
       "      <td>Recreation and Park Commission</td>\n",
       "      <td>7.320287e+08</td>\n",
       "    </tr>\n",
       "    <tr>\n",
       "      <th>5</th>\n",
       "      <td>Public Works, Transportation &amp; Commerce</td>\n",
       "      <td>Department of Building Inspection</td>\n",
       "      <td>2.916704e+08</td>\n",
       "    </tr>\n",
       "    <tr>\n",
       "      <th>6</th>\n",
       "      <td>Public Works, Transportation &amp; Commerce</td>\n",
       "      <td>General Services Agency - Public Works</td>\n",
       "      <td>1.153360e+09</td>\n",
       "    </tr>\n",
       "    <tr>\n",
       "      <th>7</th>\n",
       "      <td>General Administration &amp; Finance</td>\n",
       "      <td>General Services Agency - City Admin</td>\n",
       "      <td>7.320502e+08</td>\n",
       "    </tr>\n",
       "    <tr>\n",
       "      <th>15</th>\n",
       "      <td>Culture &amp; Recreation</td>\n",
       "      <td>Asian Art Museum</td>\n",
       "      <td>4.726781e+07</td>\n",
       "    </tr>\n",
       "    <tr>\n",
       "      <th>16</th>\n",
       "      <td>General Administration &amp; Finance</td>\n",
       "      <td>City Planning</td>\n",
       "      <td>1.974527e+08</td>\n",
       "    </tr>\n",
       "  </tbody>\n",
       "</table>\n",
       "</div>"
      ],
      "text/plain": [
       "                          Organization Group  \\\n",
       "0    Public Works, Transportation & Commerce   \n",
       "1                           Community Health   \n",
       "2   Human Welfare & Neighborhood Development   \n",
       "3           General Administration & Finance   \n",
       "4                       Culture & Recreation   \n",
       "5    Public Works, Transportation & Commerce   \n",
       "6    Public Works, Transportation & Commerce   \n",
       "7           General Administration & Finance   \n",
       "15                      Culture & Recreation   \n",
       "16          General Administration & Finance   \n",
       "\n",
       "                                Department         Total  \n",
       "0                       Airport Commission  1.510304e+09  \n",
       "1                            Public Health  7.034581e+09  \n",
       "2        Department of the Status of Women  5.948097e+06  \n",
       "3                          Human Resources  1.688854e+08  \n",
       "4           Recreation and Park Commission  7.320287e+08  \n",
       "5        Department of Building Inspection  2.916704e+08  \n",
       "6   General Services Agency - Public Works  1.153360e+09  \n",
       "7     General Services Agency - City Admin  7.320502e+08  \n",
       "15                        Asian Art Museum  4.726781e+07  \n",
       "16                           City Planning  1.974527e+08  "
      ]
     },
     "execution_count": 5,
     "metadata": {},
     "output_type": "execute_result"
    }
   ],
   "source": [
    "p.head(10)"
   ]
  },
  {
   "cell_type": "code",
   "execution_count": 6,
   "metadata": {
    "collapsed": true
   },
   "outputs": [],
   "source": [
    "with open('Q2_Part1.csv', 'a') as csvfile:\n",
    "    p.to_csv(csvfile, header=True)"
   ]
  }
 ],
 "metadata": {
  "anaconda-cloud": {},
  "kernelspec": {
   "display_name": "Python [conda root]",
   "language": "python",
   "name": "conda-root-py"
  },
  "language_info": {
   "codemirror_mode": {
    "name": "ipython",
    "version": 3
   },
   "file_extension": ".py",
   "mimetype": "text/x-python",
   "name": "python",
   "nbconvert_exporter": "python",
   "pygments_lexer": "ipython3",
   "version": "3.5.2"
  }
 },
 "nbformat": 4,
 "nbformat_minor": 1
}
