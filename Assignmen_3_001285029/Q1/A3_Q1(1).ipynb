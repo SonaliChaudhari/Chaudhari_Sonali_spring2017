{
 "cells": [
  {
   "cell_type": "markdown",
   "metadata": {},
   "source": [
    "# QUESTION 1 PART 1"
   ]
  },
  {
   "cell_type": "code",
   "execution_count": 1,
   "metadata": {
    "collapsed": true
   },
   "outputs": [],
   "source": [
    "import string\n",
    "import csv, sys\n",
    "from pandas import Series, DataFrame\n",
    "import pandas as pd\n",
    "import os\n",
    "import glob"
   ]
  },
  {
   "cell_type": "code",
   "execution_count": 2,
   "metadata": {
    "collapsed": true
   },
   "outputs": [],
   "source": [
    "directory = os.path.dirname(os.getcwd()) \n",
    "path =  directory + '/Assignment 3/Data'"
   ]
  },
  {
   "cell_type": "code",
   "execution_count": 3,
   "metadata": {
    "collapsed": true
   },
   "outputs": [],
   "source": [
    "L ={'1':'JANUARY','2':'FEBRUARY','3':'MARCH','4':'APRIL','5':'MAY','6':'JUNE','7':'JULY','8':'AUGUST','9':'SEPTEMBER','10':'OCTOBER','11':'NOVEMBER','12':'DECEMBER'}\n",
    "\n",
    "L = sorted(L.items(), key=lambda x: x[1], reverse=True)[:]"
   ]
  },
  {
   "cell_type": "code",
   "execution_count": 4,
   "metadata": {
    "collapsed": false
   },
   "outputs": [],
   "source": [
    "M={}\n",
    "D={}\n",
    "for subdir, dirs, files in os.walk(path):\n",
    "    for file in files:\n",
    "        if file == 'vehicle_collisions.csv':\n",
    "            reqpath = os.path.join(subdir,file)\n",
    "            with open(reqpath, newline='') as f:\n",
    "                reader = csv.reader(f)\n",
    "                #reader.next()\n",
    "                try:\n",
    "                    for record in reader:\n",
    "                        d = record[1].split('/')[0]\n",
    "                        if d not in D:\n",
    "                            D[d] =1\n",
    "                        else:\n",
    "                            D[d] +=1\n",
    "                        if record[3] == 'MANHATTAN':\n",
    "                            if d not in M:\n",
    "                                M[d] =1\n",
    "                            else:\n",
    "                                M[d] +=1\n",
    "                        #print(d,record[3],'\\n')                        \n",
    "                except csv.Error as e:\n",
    "                    sys.exit('file {}, line {}: {}'.format(filename, reader.line_num, e))"
   ]
  },
  {
   "cell_type": "code",
   "execution_count": 5,
   "metadata": {
    "collapsed": false
   },
   "outputs": [],
   "source": [
    "del D['DATE']\n",
    "D = sorted(D.items(), key=lambda x: x[1], reverse=True)[:]\n",
    "M = sorted(M.items(), key=lambda x: x[1], reverse=True)[:]"
   ]
  },
  {
   "cell_type": "code",
   "execution_count": 6,
   "metadata": {
    "collapsed": false
   },
   "outputs": [
    {
     "name": "stdout",
     "output_type": "stream",
     "text": [
      "JANUARY 8348 51464\n",
      "FEBRUARY 7949 47042\n",
      "OCTOBER 6854 39504\n",
      "MAY 7311 39309\n",
      "AUGUST 6551 38648\n",
      "JULY 6897 38619\n",
      "JUNE 6684 38231\n",
      "DECEMBER 6306 38069\n",
      "SEPTEMBER 6383 37995\n",
      "NOVEMBER 6383 37329\n",
      "MARCH 6875 36410\n",
      "APRIL 7061 35112\n"
     ]
    }
   ],
   "source": [
    "with open('Q1_Part1.csv', 'w') as csvfile:    # Creating a CSV file named 'Data' in write mode as csvfile\n",
    "    fieldnames = ['Month', 'Manhattan','NYC','Percentage']  #Naming the title Row of the CSV\n",
    "    writer = csv.DictWriter(csvfile, fieldnames=fieldnames)\n",
    "                # Initializing a variable 'rank' to 1 for ranking\n",
    "    writer.writeheader()\n",
    "    for k,v in D:\n",
    "        for a,b in L:\n",
    "            for x,y in M:\n",
    "                if k == a:\n",
    "                    if x == a:\n",
    "                        print(b,y,v)\n",
    "                        percent = (y/v)*100\n",
    "                        writer.writerow({'Month': b,'Manhattan':y, 'NYC': v,'Percentage': percent}) # Adding entry in the CSV"
   ]
  }
 ],
 "metadata": {
  "anaconda-cloud": {},
  "kernelspec": {
   "display_name": "Python [conda root]",
   "language": "python",
   "name": "conda-root-py"
  },
  "language_info": {
   "codemirror_mode": {
    "name": "ipython",
    "version": 3
   },
   "file_extension": ".py",
   "mimetype": "text/x-python",
   "name": "python",
   "nbconvert_exporter": "python",
   "pygments_lexer": "ipython3",
   "version": "3.5.2"
  }
 },
 "nbformat": 4,
 "nbformat_minor": 1
}
